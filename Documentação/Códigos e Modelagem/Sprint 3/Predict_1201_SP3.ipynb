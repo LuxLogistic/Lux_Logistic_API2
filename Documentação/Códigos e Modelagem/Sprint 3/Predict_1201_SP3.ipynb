{
 "cells": [
  {
   "cell_type": "code",
   "execution_count": 1,
   "id": "47126351",
   "metadata": {},
   "outputs": [],
   "source": [
    "import pandas as pd\n",
    "import numpy as np\n",
    "import json\n",
    "from loguru import logger\n",
    "#from sktime.transformations.series.summarize import WindowSummarizer\n",
    "#from pycaret.time_series import *"
   ]
  },
  {
   "cell_type": "code",
   "execution_count": 2,
   "id": "9a6a523f",
   "metadata": {},
   "outputs": [],
   "source": [
    "base_1201=r\"C:\\Users\\jetin\\Python_Códigos\\API2_fluxo_logistico\\Sprint 3\\base_hist_1201_URF.csv\"\n",
    "#base_9306=r\"C:\\Users\\jetin\\Python_Códigos\\API2_fluxo_logistico\\Sprint 3\\base_hist_9306_URF.csv\""
   ]
  },
  {
   "cell_type": "code",
   "execution_count": 3,
   "id": "7831fb18",
   "metadata": {},
   "outputs": [],
   "source": [
    "dict_type={'CO_ANO': str,\n",
    "           'CO_MES': str,\n",
    "           'CO_SH4': str,\n",
    "           'CO_NCM': str,\n",
    "           'SG_UF_NCM': str,\n",
    "           'NO_URF2': str,\n",
    "           'VL_FOB': float,\n",
    "           'NO_VIA': str,\n",
    "           'NO_PAIS': str,\n",
    "           'KG_LIQUIDO': float,\n",
    "           'CADEIA PRODUTIVA': str }"
   ]
  },
  {
   "cell_type": "code",
   "execution_count": 4,
   "id": "cff2b90f",
   "metadata": {},
   "outputs": [],
   "source": [
    "df_1201=pd.read_csv(base_1201, sep=\",\", dtype=dict_type)\n",
    "#df_9306=pd.read_csv(base_9306, sep=\",\", dtype=dict_type)"
   ]
  },
  {
   "cell_type": "code",
   "execution_count": 5,
   "id": "edde439e",
   "metadata": {},
   "outputs": [
    {
     "data": {
      "text/plain": [
       "MARITIMA          128\n",
       "AEREA              80\n",
       "FLUVIAL            74\n",
       "RODOVIARIA         57\n",
       "MEIOS PROPRIOS      1\n",
       "Name: NO_VIA, dtype: int64"
      ]
     },
     "execution_count": 5,
     "metadata": {},
     "output_type": "execute_result"
    }
   ],
   "source": [
    "df_1201.loc[(df_1201['CO_SH4']=='1201') & (df_1201['NO_PAIS']=='Argentina')]['NO_VIA'].value_counts()"
   ]
  },
  {
   "cell_type": "code",
   "execution_count": 6,
   "id": "82b9a432",
   "metadata": {},
   "outputs": [],
   "source": [
    "cols=['CO_ANO',\n",
    "      'CO_MES',\n",
    "      'CO_NCM',\n",
    "      'NO_PAIS',\n",
    "      'KG_LIQUIDO']\n",
    "\n",
    "df_1201_sel=df_1201[cols]"
   ]
  },
  {
   "cell_type": "code",
   "execution_count": 7,
   "id": "95e7ee54",
   "metadata": {},
   "outputs": [
    {
     "data": {
      "text/html": [
       "<div>\n",
       "<style scoped>\n",
       "    .dataframe tbody tr th:only-of-type {\n",
       "        vertical-align: middle;\n",
       "    }\n",
       "\n",
       "    .dataframe tbody tr th {\n",
       "        vertical-align: top;\n",
       "    }\n",
       "\n",
       "    .dataframe thead th {\n",
       "        text-align: right;\n",
       "    }\n",
       "</style>\n",
       "<table border=\"1\" class=\"dataframe\">\n",
       "  <thead>\n",
       "    <tr style=\"text-align: right;\">\n",
       "      <th></th>\n",
       "      <th>CO_ANO</th>\n",
       "      <th>CO_MES</th>\n",
       "      <th>CO_NCM</th>\n",
       "      <th>NO_PAIS</th>\n",
       "      <th>KG_LIQUIDO</th>\n",
       "    </tr>\n",
       "  </thead>\n",
       "  <tbody>\n",
       "    <tr>\n",
       "      <th>0</th>\n",
       "      <td>2023</td>\n",
       "      <td>04</td>\n",
       "      <td>12019000</td>\n",
       "      <td>China</td>\n",
       "      <td>260513154.0</td>\n",
       "    </tr>\n",
       "    <tr>\n",
       "      <th>1</th>\n",
       "      <td>2023</td>\n",
       "      <td>03</td>\n",
       "      <td>12019000</td>\n",
       "      <td>Espanha</td>\n",
       "      <td>680218.0</td>\n",
       "    </tr>\n",
       "  </tbody>\n",
       "</table>\n",
       "</div>"
      ],
      "text/plain": [
       "  CO_ANO CO_MES    CO_NCM  NO_PAIS   KG_LIQUIDO\n",
       "0   2023     04  12019000    China  260513154.0\n",
       "1   2023     03  12019000  Espanha     680218.0"
      ]
     },
     "execution_count": 7,
     "metadata": {},
     "output_type": "execute_result"
    }
   ],
   "source": [
    "df_1201_sel.head(2)"
   ]
  },
  {
   "cell_type": "code",
   "execution_count": 8,
   "id": "683a785f",
   "metadata": {},
   "outputs": [
    {
     "name": "stdout",
     "output_type": "stream",
     "text": [
      "<class 'pandas.core.frame.DataFrame'>\n",
      "RangeIndex: 30012 entries, 0 to 30011\n",
      "Data columns (total 5 columns):\n",
      " #   Column      Non-Null Count  Dtype  \n",
      "---  ------      --------------  -----  \n",
      " 0   CO_ANO      30012 non-null  object \n",
      " 1   CO_MES      30012 non-null  object \n",
      " 2   CO_NCM      30012 non-null  object \n",
      " 3   NO_PAIS     30012 non-null  object \n",
      " 4   KG_LIQUIDO  30012 non-null  float64\n",
      "dtypes: float64(1), object(4)\n",
      "memory usage: 1.1+ MB\n"
     ]
    }
   ],
   "source": [
    "df_1201_sel.info()"
   ]
  },
  {
   "cell_type": "markdown",
   "id": "91c7d0da",
   "metadata": {},
   "source": [
    "#### Tratamento da base"
   ]
  },
  {
   "cell_type": "code",
   "execution_count": 9,
   "id": "a7ff1c21",
   "metadata": {},
   "outputs": [
    {
     "name": "stderr",
     "output_type": "stream",
     "text": [
      "C:\\Users\\jetin\\AppData\\Local\\Temp\\ipykernel_3460\\4283656739.py:1: SettingWithCopyWarning: \n",
      "A value is trying to be set on a copy of a slice from a DataFrame.\n",
      "Try using .loc[row_indexer,col_indexer] = value instead\n",
      "\n",
      "See the caveats in the documentation: https://pandas.pydata.org/pandas-docs/stable/user_guide/indexing.html#returning-a-view-versus-a-copy\n",
      "  df_1201_sel['DATA_ANO_MES']= df_1201_sel['CO_ANO'] + '-' + df_1201_sel['CO_MES']\n"
     ]
    }
   ],
   "source": [
    "df_1201_sel['DATA_ANO_MES']= df_1201_sel['CO_ANO'] + '-' + df_1201_sel['CO_MES']"
   ]
  },
  {
   "cell_type": "code",
   "execution_count": 10,
   "id": "cfdb38d4",
   "metadata": {},
   "outputs": [
    {
     "name": "stderr",
     "output_type": "stream",
     "text": [
      "C:\\Users\\jetin\\AppData\\Local\\Temp\\ipykernel_3460\\3261627010.py:1: SettingWithCopyWarning: \n",
      "A value is trying to be set on a copy of a slice from a DataFrame.\n",
      "Try using .loc[row_indexer,col_indexer] = value instead\n",
      "\n",
      "See the caveats in the documentation: https://pandas.pydata.org/pandas-docs/stable/user_guide/indexing.html#returning-a-view-versus-a-copy\n",
      "  df_1201_sel['DATA']=pd.to_datetime(df_1201_sel['DATA_ANO_MES'], format= '%Y-%m')\n"
     ]
    }
   ],
   "source": [
    "df_1201_sel['DATA']=pd.to_datetime(df_1201_sel['DATA_ANO_MES'], format= '%Y-%m')"
   ]
  },
  {
   "cell_type": "code",
   "execution_count": 11,
   "id": "3af2b237",
   "metadata": {},
   "outputs": [
    {
     "name": "stderr",
     "output_type": "stream",
     "text": [
      "C:\\Users\\jetin\\AppData\\Local\\Temp\\ipykernel_3460\\3594350525.py:1: SettingWithCopyWarning: \n",
      "A value is trying to be set on a copy of a slice from a DataFrame.\n",
      "Try using .loc[row_indexer,col_indexer] = value instead\n",
      "\n",
      "See the caveats in the documentation: https://pandas.pydata.org/pandas-docs/stable/user_guide/indexing.html#returning-a-view-versus-a-copy\n",
      "  df_1201_sel['SKU_DESTINO']= df_1201_sel['CO_NCM'] + '-' + df_1201_sel['NO_PAIS']\n"
     ]
    }
   ],
   "source": [
    "df_1201_sel['SKU_DESTINO']= df_1201_sel['CO_NCM'] + '-' + df_1201_sel['NO_PAIS']"
   ]
  },
  {
   "cell_type": "code",
   "execution_count": 29,
   "id": "b03b30a0",
   "metadata": {},
   "outputs": [
    {
     "name": "stdout",
     "output_type": "stream",
     "text": [
      "<class 'pandas.core.frame.DataFrame'>\n",
      "RangeIndex: 30012 entries, 0 to 30011\n",
      "Data columns (total 8 columns):\n",
      " #   Column        Non-Null Count  Dtype         \n",
      "---  ------        --------------  -----         \n",
      " 0   CO_ANO        30012 non-null  object        \n",
      " 1   CO_MES        30012 non-null  object        \n",
      " 2   CO_NCM        30012 non-null  object        \n",
      " 3   NO_PAIS       30012 non-null  object        \n",
      " 4   KG_LIQUIDO    30012 non-null  float64       \n",
      " 5   DATA_ANO_MES  30012 non-null  object        \n",
      " 6   DATA          30012 non-null  datetime64[ns]\n",
      " 7   SKU_DESTINO   30012 non-null  object        \n",
      "dtypes: datetime64[ns](1), float64(1), object(6)\n",
      "memory usage: 1.8+ MB\n"
     ]
    }
   ],
   "source": [
    "df_1201_sel.info()"
   ]
  },
  {
   "cell_type": "markdown",
   "id": "6f22526e",
   "metadata": {},
   "source": [
    "#### Preenche com zero os valores ausentes de data"
   ]
  },
  {
   "cell_type": "code",
   "execution_count": 13,
   "id": "fe18dc48",
   "metadata": {},
   "outputs": [],
   "source": [
    "def preenche_nans(df: pd.DataFrame, metodo: str):\n",
    "    \"\"\"\n",
    "    Preenche os valores ausentes em um DataFrame.\n",
    "\n",
    "    Parameters\n",
    "    ----------\n",
    "    df : pd.DataFrame\n",
    "        O DataFrame de entrada.\n",
    "    metodo : str\n",
    "        O método a ser usado para preencher os valores ausentes. Pode ser 'ffill', 'bfill' ou 'fillna_zeros'.\n",
    "\n",
    "    Returns\n",
    "    -------\n",
    "    pd.DataFrame\n",
    "        O DataFrame com os valores ausentes preenchidos.\n",
    "\n",
    "    Raises\n",
    "    ------\n",
    "    ValueError\n",
    "        Se o método fornecido não for suportado.\n",
    "\n",
    "    Example\n",
    "    -------\n",
    "    >>> df = preenche_nans(df, 'fillna_zeros')\n",
    "    \"\"\"\n",
    "    metodos = {\n",
    "        'ffill': df.ffill,\n",
    "        'bfill': df.bfill,\n",
    "        'fillna_zeros': df.fillna\n",
    "    }\n",
    "    \n",
    "    if metodo not in metodos:\n",
    "        raise ValueError(\"Método não suportado: escolha entre 'ffill', 'bfill' ou 'fillna_zeros'\")\n",
    "    if metodo == 'fillna_zeros':\n",
    "        return metodos[metodo](0)\n",
    "    \n",
    "    return metodos[metodo]()\n",
    "\n",
    "def agrupa_silver(silver_consolidada: pd.DataFrame, params: dict):\n",
    "    \"\"\"\n",
    "    Realiza groupby na silver consolidada e agrega os dados.\n",
    "\n",
    "    Parameters\n",
    "    ----------\n",
    "    silver_consolidada : pd.DataFrame\n",
    "        O DataFrame da silver consolidada.\n",
    "    params : dict\n",
    "        Um dicionário com parâmetros do cliente.\n",
    "\n",
    "    Returns\n",
    "    -------\n",
    "    pd.DataFrame\n",
    "        A silver consolidada após a agregação.\n",
    "\n",
    "    Example\n",
    "    -------\n",
    "    >>> params = {\n",
    "    ...     'colunas_gb': ['coluna1', 'coluna2'],\n",
    "    ...     'join_colunas_var': '-',\n",
    "    ...     'coluna_data': 'data',\n",
    "    ...     'frequencia_agrupamento': 'M',\n",
    "    ...     'agg_dict': {'coluna3': 'mean', 'coluna4': 'sum'}\n",
    "    ... }\n",
    "    >>> silver_agrupada = agrupa_silver(silver_consolidada, params)\n",
    "    \"\"\"\n",
    "    logger.info(\"Agrupando dados da silver...\")\n",
    "    nome_colunas = '-'.join(params['colunas_gb'])\n",
    "    silver_consolidada[nome_colunas] = silver_consolidada[params['colunas_gb']].apply(lambda x: params['join_colunas_var'].join(x), axis=1)\n",
    "    \n",
    "    gb_args = [nome_colunas] + [pd.Grouper(key=params['coluna_data'], \n",
    "                                           freq=params['frequencia_agrupamento'])]\n",
    "\n",
    "    silver_agrupada = silver_consolidada.groupby(gb_args).agg(params['agg_dict']).reset_index()\n",
    "\n",
    "    return silver_agrupada\n",
    "\n",
    "def insere_datas_ausentes(df: pd.DataFrame, params: dict):\n",
    "    \"\"\"\n",
    "    Insere linhas de datas ausentes em um DataFrame.\n",
    "\n",
    "    Parameters\n",
    "    ----------\n",
    "    df : pd.DataFrame\n",
    "        O DataFrame de entrada.\n",
    "    params : dict\n",
    "        Um dicionário com parâmetros do cliente.\n",
    "\n",
    "    Returns\n",
    "    -------\n",
    "    pd.DataFrame\n",
    "        O DataFrame com as datas ausentes preenchidas.\n",
    "\n",
    "    Example\n",
    "    -------\n",
    "    >>> params = {\n",
    "    ...     'colunas_gb': ['coluna1', 'coluna2'],\n",
    "    ...     'coluna_data': 'data',\n",
    "    ...     'frequencia_agrupamento': 'D'\n",
    "    ... }\n",
    "    >>> df_com_datas = insere_datas_ausentes(df, params)\n",
    "    \"\"\"\n",
    "    logger.info('Inserindo datas faltantes...')\n",
    "    col = '-'.join(params['colunas_gb'])\n",
    "    dfs = []\n",
    "    data_max = df[params['coluna_data']].max()\n",
    "    for item in df[col].unique():\n",
    "        temp = df[df[col] == item].copy()\n",
    "        temp.set_index(params['coluna_data'], inplace=True)\n",
    "        complete_date_range = pd.date_range(start=temp.index.min(), \n",
    "                                            end=data_max, \n",
    "                                            freq=params['frequencia_agrupamento'])\n",
    "\n",
    "        temp = temp.reindex(complete_date_range)\n",
    "        temp[col] = temp[col].ffill()\n",
    "        temp = preenche_nans(temp, metodo='fillna_zeros')\n",
    "        dfs.append(temp)\n",
    "\n",
    "    df_com_datas = pd.concat(dfs).reset_index().rename(columns={'index': params['coluna_data']})\n",
    "    return df_com_datas\n",
    "\n",
    "def gera_serie_temporal(df: pd.DataFrame, params: dict):\n",
    "    \"\"\"\n",
    "    Função principal para gerar uma série temporal.\n",
    "\n",
    "    Parameters\n",
    "    ----------\n",
    "    df : pd.DataFrame\n",
    "        O DataFrame de entrada.\n",
    "    params : dict\n",
    "        Um dicionário com parâmetros do cliente.\n",
    "\n",
    "    Returns\n",
    "    -------\n",
    "    pd.DataFrame\n",
    "        A série temporal gerada.\n",
    "\n",
    "    Example\n",
    "    -------\n",
    "    >>> params = {\n",
    "    ...     'colunas_gb': ['coluna1', 'coluna2'],\n",
    "    ...     'join_colunas_var': '-',\n",
    "    ...     'coluna_data': 'data',\n",
    "    ...     'frequencia_agrupamento': 'D',\n",
    "    ...     'agg_dict': {'coluna3': 'mean', 'coluna4': 'sum'}\n",
    "    ... }\n",
    "    >>> st = gera_serie_temporal(df, params)\n",
    "    \"\"\"\n",
    "    st = agrupa_silver(df, params)\n",
    "    st = insere_datas_ausentes(st, params)\n",
    "    logger.success(\"Série temporal gerada\")\n",
    "\n",
    "    return st\n"
   ]
  },
  {
   "cell_type": "code",
   "execution_count": 14,
   "id": "21a9a078",
   "metadata": {},
   "outputs": [],
   "source": [
    "params = {\n",
    "'colunas_gb': ['SKU_DESTINO'],\n",
    "'join_colunas_var': '-',\n",
    "'coluna_data': 'DATA',\n",
    "'frequencia_agrupamento': 'MS',\n",
    "'agg_dict': {'KG_LIQUIDO': 'sum'}\n",
    " }"
   ]
  },
  {
   "cell_type": "code",
   "execution_count": 15,
   "id": "837670f5",
   "metadata": {},
   "outputs": [
    {
     "name": "stderr",
     "output_type": "stream",
     "text": [
      "\u001b[32m2023-11-25 18:29:35.257\u001b[0m | \u001b[1mINFO    \u001b[0m | \u001b[36m__main__\u001b[0m:\u001b[36magrupa_silver\u001b[0m:\u001b[36m66\u001b[0m - \u001b[1mAgrupando dados da silver...\u001b[0m\n",
      "C:\\Users\\jetin\\AppData\\Local\\Temp\\ipykernel_3460\\569256599.py:68: SettingWithCopyWarning: \n",
      "A value is trying to be set on a copy of a slice from a DataFrame.\n",
      "Try using .loc[row_indexer,col_indexer] = value instead\n",
      "\n",
      "See the caveats in the documentation: https://pandas.pydata.org/pandas-docs/stable/user_guide/indexing.html#returning-a-view-versus-a-copy\n",
      "  silver_consolidada[nome_colunas] = silver_consolidada[params['colunas_gb']].apply(lambda x: params['join_colunas_var'].join(x), axis=1)\n",
      "\u001b[32m2023-11-25 18:29:35.517\u001b[0m | \u001b[1mINFO    \u001b[0m | \u001b[36m__main__\u001b[0m:\u001b[36minsere_datas_ausentes\u001b[0m:\u001b[36m102\u001b[0m - \u001b[1mInserindo datas faltantes...\u001b[0m\n",
      "\u001b[32m2023-11-25 18:29:36.617\u001b[0m | \u001b[32m\u001b[1mSUCCESS \u001b[0m | \u001b[36m__main__\u001b[0m:\u001b[36mgera_serie_temporal\u001b[0m:\u001b[36m150\u001b[0m - \u001b[32m\u001b[1mSérie temporal gerada\u001b[0m\n"
     ]
    }
   ],
   "source": [
    "df_st_1201=gera_serie_temporal(df_1201_sel, params)"
   ]
  },
  {
   "cell_type": "code",
   "execution_count": 31,
   "id": "12aeacdb",
   "metadata": {},
   "outputs": [
    {
     "name": "stdout",
     "output_type": "stream",
     "text": [
      "<class 'pandas.core.frame.DataFrame'>\n",
      "RangeIndex: 45528 entries, 0 to 45527\n",
      "Data columns (total 3 columns):\n",
      " #   Column       Non-Null Count  Dtype         \n",
      "---  ------       --------------  -----         \n",
      " 0   DATA         45528 non-null  datetime64[ns]\n",
      " 1   SKU_DESTINO  45528 non-null  object        \n",
      " 2   KG_LIQUIDO   45528 non-null  float64       \n",
      "dtypes: datetime64[ns](1), float64(1), object(1)\n",
      "memory usage: 1.0+ MB\n"
     ]
    }
   ],
   "source": [
    "df_st_1201.info()"
   ]
  },
  {
   "cell_type": "markdown",
   "id": "07ebe1d0",
   "metadata": {},
   "source": [
    "#### Predição serie temporal"
   ]
  },
  {
   "cell_type": "code",
   "execution_count": 52,
   "id": "ab78937b",
   "metadata": {},
   "outputs": [],
   "source": [
    "df_st_1201_ARG = df_st_1201.loc[df_st_1201['SKU_DESTINO'].apply(lambda x: '12019000-Argentina' in x)].reset_index().drop(columns=['index','SKU_DESTINO'])"
   ]
  },
  {
   "cell_type": "code",
   "execution_count": 53,
   "id": "39ae2cf1",
   "metadata": {},
   "outputs": [
    {
     "data": {
      "text/html": [
       "<div>\n",
       "<style scoped>\n",
       "    .dataframe tbody tr th:only-of-type {\n",
       "        vertical-align: middle;\n",
       "    }\n",
       "\n",
       "    .dataframe tbody tr th {\n",
       "        vertical-align: top;\n",
       "    }\n",
       "\n",
       "    .dataframe thead th {\n",
       "        text-align: right;\n",
       "    }\n",
       "</style>\n",
       "<table border=\"1\" class=\"dataframe\">\n",
       "  <thead>\n",
       "    <tr style=\"text-align: right;\">\n",
       "      <th></th>\n",
       "      <th>DATA</th>\n",
       "      <th>KG_LIQUIDO</th>\n",
       "    </tr>\n",
       "  </thead>\n",
       "  <tbody>\n",
       "    <tr>\n",
       "      <th>0</th>\n",
       "      <td>2013-02-01</td>\n",
       "      <td>1.160000e+05</td>\n",
       "    </tr>\n",
       "    <tr>\n",
       "      <th>1</th>\n",
       "      <td>2013-03-01</td>\n",
       "      <td>4.380000e+05</td>\n",
       "    </tr>\n",
       "    <tr>\n",
       "      <th>2</th>\n",
       "      <td>2013-04-01</td>\n",
       "      <td>1.160000e+05</td>\n",
       "    </tr>\n",
       "    <tr>\n",
       "      <th>3</th>\n",
       "      <td>2013-05-01</td>\n",
       "      <td>4.800000e+04</td>\n",
       "    </tr>\n",
       "    <tr>\n",
       "      <th>4</th>\n",
       "      <td>2013-06-01</td>\n",
       "      <td>0.000000e+00</td>\n",
       "    </tr>\n",
       "    <tr>\n",
       "      <th>...</th>\n",
       "      <td>...</td>\n",
       "      <td>...</td>\n",
       "    </tr>\n",
       "    <tr>\n",
       "      <th>121</th>\n",
       "      <td>2023-03-01</td>\n",
       "      <td>3.566155e+08</td>\n",
       "    </tr>\n",
       "    <tr>\n",
       "      <th>122</th>\n",
       "      <td>2023-04-01</td>\n",
       "      <td>5.386466e+08</td>\n",
       "    </tr>\n",
       "    <tr>\n",
       "      <th>123</th>\n",
       "      <td>2023-05-01</td>\n",
       "      <td>9.685269e+08</td>\n",
       "    </tr>\n",
       "    <tr>\n",
       "      <th>124</th>\n",
       "      <td>2023-06-01</td>\n",
       "      <td>1.125314e+09</td>\n",
       "    </tr>\n",
       "    <tr>\n",
       "      <th>125</th>\n",
       "      <td>2023-07-01</td>\n",
       "      <td>4.518159e+08</td>\n",
       "    </tr>\n",
       "  </tbody>\n",
       "</table>\n",
       "<p>126 rows × 2 columns</p>\n",
       "</div>"
      ],
      "text/plain": [
       "          DATA    KG_LIQUIDO\n",
       "0   2013-02-01  1.160000e+05\n",
       "1   2013-03-01  4.380000e+05\n",
       "2   2013-04-01  1.160000e+05\n",
       "3   2013-05-01  4.800000e+04\n",
       "4   2013-06-01  0.000000e+00\n",
       "..         ...           ...\n",
       "121 2023-03-01  3.566155e+08\n",
       "122 2023-04-01  5.386466e+08\n",
       "123 2023-05-01  9.685269e+08\n",
       "124 2023-06-01  1.125314e+09\n",
       "125 2023-07-01  4.518159e+08\n",
       "\n",
       "[126 rows x 2 columns]"
      ]
     },
     "execution_count": 53,
     "metadata": {},
     "output_type": "execute_result"
    }
   ],
   "source": [
    "df_st_1201_ARG"
   ]
  },
  {
   "cell_type": "code",
   "execution_count": null,
   "id": "c902683d",
   "metadata": {},
   "outputs": [],
   "source": [
    "#gera_predicao_serie_temporal(df_1201_china, params_predicao, params_serie_temporal)"
   ]
  },
  {
   "cell_type": "code",
   "execution_count": 38,
   "id": "1a19c0e7",
   "metadata": {},
   "outputs": [],
   "source": [
    "from statsmodels.tsa.statespace.sarimax import SARIMAX\n",
    "from pmdarima import auto_arima"
   ]
  },
  {
   "cell_type": "code",
   "execution_count": 54,
   "id": "84eb3aaf",
   "metadata": {},
   "outputs": [],
   "source": [
    "# Converta a coluna de datas para o tipo apropriado\n",
    "df_st_1201_ARG.set_index('DATA', inplace=True)"
   ]
  },
  {
   "cell_type": "code",
   "execution_count": 55,
   "id": "4c1e434e",
   "metadata": {},
   "outputs": [
    {
     "name": "stdout",
     "output_type": "stream",
     "text": [
      "Performing stepwise search to minimize aic\n",
      " ARIMA(1,0,1)(1,1,1)[12] intercept   : AIC=4510.404, Time=0.35 sec\n",
      " ARIMA(0,0,0)(0,1,0)[12] intercept   : AIC=4624.094, Time=0.02 sec\n",
      " ARIMA(1,0,0)(1,1,0)[12] intercept   : AIC=4509.199, Time=0.11 sec\n",
      " ARIMA(0,0,1)(0,1,1)[12] intercept   : AIC=4545.509, Time=0.20 sec\n",
      " ARIMA(0,0,0)(0,1,0)[12]             : AIC=4628.422, Time=0.02 sec\n",
      " ARIMA(1,0,0)(0,1,0)[12] intercept   : AIC=4508.211, Time=0.03 sec\n",
      " ARIMA(1,0,0)(0,1,1)[12] intercept   : AIC=4507.857, Time=0.11 sec\n",
      " ARIMA(1,0,0)(1,1,1)[12] intercept   : AIC=4509.780, Time=0.22 sec\n",
      " ARIMA(1,0,0)(0,1,2)[12] intercept   : AIC=4509.687, Time=0.33 sec\n",
      " ARIMA(1,0,0)(1,1,2)[12] intercept   : AIC=4510.942, Time=0.50 sec\n",
      " ARIMA(0,0,0)(0,1,1)[12] intercept   : AIC=4626.017, Time=0.11 sec\n",
      " ARIMA(2,0,0)(0,1,1)[12] intercept   : AIC=4509.599, Time=0.18 sec\n",
      " ARIMA(1,0,1)(0,1,1)[12] intercept   : AIC=4508.585, Time=0.28 sec\n",
      " ARIMA(2,0,1)(0,1,1)[12] intercept   : AIC=4509.996, Time=0.32 sec\n",
      " ARIMA(1,0,0)(0,1,1)[12]             : AIC=4506.411, Time=0.11 sec\n",
      " ARIMA(1,0,0)(0,1,0)[12]             : AIC=4507.291, Time=0.03 sec\n",
      " ARIMA(1,0,0)(1,1,1)[12]             : AIC=4508.411, Time=0.16 sec\n",
      " ARIMA(1,0,0)(0,1,2)[12]             : AIC=4508.408, Time=0.34 sec\n",
      " ARIMA(1,0,0)(1,1,0)[12]             : AIC=4508.290, Time=0.10 sec\n",
      " ARIMA(1,0,0)(1,1,2)[12]             : AIC=4510.186, Time=0.48 sec\n",
      " ARIMA(0,0,0)(0,1,1)[12]             : AIC=4637.087, Time=0.08 sec\n",
      " ARIMA(2,0,0)(0,1,1)[12]             : AIC=4508.172, Time=0.16 sec\n",
      " ARIMA(1,0,1)(0,1,1)[12]             : AIC=4507.778, Time=0.21 sec\n",
      " ARIMA(0,0,1)(0,1,1)[12]             : AIC=4548.877, Time=0.17 sec\n",
      " ARIMA(2,0,1)(0,1,1)[12]             : AIC=4509.305, Time=0.30 sec\n",
      "\n",
      "Best model:  ARIMA(1,0,0)(0,1,1)[12]          \n",
      "Total fit time: 4.964 seconds\n"
     ]
    },
    {
     "name": "stderr",
     "output_type": "stream",
     "text": [
      "C:\\ProgramData\\anaconda3\\lib\\site-packages\\statsmodels\\tsa\\base\\tsa_model.py:471: ValueWarning: No frequency information was provided, so inferred frequency MS will be used.\n",
      "  self._init_dates(dates, freq)\n",
      "C:\\ProgramData\\anaconda3\\lib\\site-packages\\statsmodels\\tsa\\base\\tsa_model.py:471: ValueWarning: No frequency information was provided, so inferred frequency MS will be used.\n",
      "  self._init_dates(dates, freq)\n"
     ]
    }
   ],
   "source": [
    "# Treine o modelo AutoARIMA até a última data disponível\n",
    "modelo_autoarima = auto_arima(df_st_1201_ARG, start_p=1, start_q=1, max_p=3, max_q=3, m=12, seasonal=True, trace=True)\n",
    "modelo = SARIMAX(df_st_1201_ARG, order=modelo_autoarima.order, seasonal_order=modelo_autoarima.seasonal_order)\n",
    "resultado = modelo.fit(disp=False)"
   ]
  },
  {
   "cell_type": "code",
   "execution_count": 56,
   "id": "69027449",
   "metadata": {},
   "outputs": [],
   "source": [
    "# Faça previsões a partir da última data no conjunto de dados\n",
    "passos_para_prever = 24  # ou o número desejado de passos à frente\n",
    "previsoes = resultado.get_forecast(steps=passos_para_prever)\n",
    "previsao_intervalo = previsoes.conf_int()"
   ]
  },
  {
   "cell_type": "code",
   "execution_count": 58,
   "id": "5a1f69de",
   "metadata": {},
   "outputs": [],
   "source": [
    "# Crie um DataFrame com as datas futuras e as previsões\n",
    "datas_futuras = pd.date_range(start=df_st_1201_ARG.index[-1], periods=passos_para_prever+1, freq='M')[1:]\n",
    "df_PRED_ARG = pd.DataFrame(index=datas_futuras, columns=['KG_LIQUIDO_PRED', 'IF_KG_LIQUIDO_PRED', 'IS_KG_LIQUIDO_PRED'])\n",
    "df_PRED_ARG['KG_LIQUIDO_PRED'] = previsoes.predicted_mean.values\n",
    "df_PRED_ARG[['IF_KG_LIQUIDO_PRED', 'IS_KG_LIQUIDO_PRED']] = previsao_intervalo.values"
   ]
  },
  {
   "cell_type": "code",
   "execution_count": 59,
   "id": "674d82ef",
   "metadata": {},
   "outputs": [
    {
     "data": {
      "text/html": [
       "<div>\n",
       "<style scoped>\n",
       "    .dataframe tbody tr th:only-of-type {\n",
       "        vertical-align: middle;\n",
       "    }\n",
       "\n",
       "    .dataframe tbody tr th {\n",
       "        vertical-align: top;\n",
       "    }\n",
       "\n",
       "    .dataframe thead th {\n",
       "        text-align: right;\n",
       "    }\n",
       "</style>\n",
       "<table border=\"1\" class=\"dataframe\">\n",
       "  <thead>\n",
       "    <tr style=\"text-align: right;\">\n",
       "      <th></th>\n",
       "      <th>KG_LIQUIDO_PRED</th>\n",
       "      <th>IF_KG_LIQUIDO_PRED</th>\n",
       "      <th>IS_KG_LIQUIDO_PRED</th>\n",
       "    </tr>\n",
       "  </thead>\n",
       "  <tbody>\n",
       "    <tr>\n",
       "      <th>2023-08-31</th>\n",
       "      <td>3.853597e+08</td>\n",
       "      <td>2.051469e+08</td>\n",
       "      <td>5.655725e+08</td>\n",
       "    </tr>\n",
       "    <tr>\n",
       "      <th>2023-09-30</th>\n",
       "      <td>3.106368e+08</td>\n",
       "      <td>7.484527e+07</td>\n",
       "      <td>5.464283e+08</td>\n",
       "    </tr>\n",
       "    <tr>\n",
       "      <th>2023-10-31</th>\n",
       "      <td>2.540922e+08</td>\n",
       "      <td>-1.434416e+07</td>\n",
       "      <td>5.225285e+08</td>\n",
       "    </tr>\n",
       "    <tr>\n",
       "      <th>2023-11-30</th>\n",
       "      <td>2.132986e+08</td>\n",
       "      <td>-7.614342e+07</td>\n",
       "      <td>5.027406e+08</td>\n",
       "    </tr>\n",
       "    <tr>\n",
       "      <th>2023-12-31</th>\n",
       "      <td>1.799723e+08</td>\n",
       "      <td>-1.235396e+08</td>\n",
       "      <td>4.834842e+08</td>\n",
       "    </tr>\n",
       "    <tr>\n",
       "      <th>2024-01-31</th>\n",
       "      <td>1.518664e+08</td>\n",
       "      <td>-1.612772e+08</td>\n",
       "      <td>4.650099e+08</td>\n",
       "    </tr>\n",
       "    <tr>\n",
       "      <th>2024-02-29</th>\n",
       "      <td>3.476276e+08</td>\n",
       "      <td>2.780368e+07</td>\n",
       "      <td>6.674516e+08</td>\n",
       "    </tr>\n",
       "    <tr>\n",
       "      <th>2024-03-31</th>\n",
       "      <td>3.011398e+08</td>\n",
       "      <td>-2.335629e+07</td>\n",
       "      <td>6.256359e+08</td>\n",
       "    </tr>\n",
       "    <tr>\n",
       "      <th>2024-04-30</th>\n",
       "      <td>3.804338e+08</td>\n",
       "      <td>5.265215e+07</td>\n",
       "      <td>7.082155e+08</td>\n",
       "    </tr>\n",
       "    <tr>\n",
       "      <th>2024-05-31</th>\n",
       "      <td>5.919697e+08</td>\n",
       "      <td>2.618688e+08</td>\n",
       "      <td>9.220706e+08</td>\n",
       "    </tr>\n",
       "    <tr>\n",
       "      <th>2024-06-30</th>\n",
       "      <td>6.289135e+08</td>\n",
       "      <td>2.971714e+08</td>\n",
       "      <td>9.606557e+08</td>\n",
       "    </tr>\n",
       "    <tr>\n",
       "      <th>2024-07-31</th>\n",
       "      <td>2.896359e+08</td>\n",
       "      <td>-4.326972e+07</td>\n",
       "      <td>6.225415e+08</td>\n",
       "    </tr>\n",
       "    <tr>\n",
       "      <th>2024-08-31</th>\n",
       "      <td>2.485191e+08</td>\n",
       "      <td>-1.023296e+08</td>\n",
       "      <td>5.993678e+08</td>\n",
       "    </tr>\n",
       "    <tr>\n",
       "      <th>2024-09-30</th>\n",
       "      <td>1.951766e+08</td>\n",
       "      <td>-1.679064e+08</td>\n",
       "      <td>5.582595e+08</td>\n",
       "    </tr>\n",
       "    <tr>\n",
       "      <th>2024-10-31</th>\n",
       "      <td>1.566718e+08</td>\n",
       "      <td>-2.148756e+08</td>\n",
       "      <td>5.282192e+08</td>\n",
       "    </tr>\n",
       "    <tr>\n",
       "      <th>2024-11-30</th>\n",
       "      <td>1.310994e+08</td>\n",
       "      <td>-2.463583e+08</td>\n",
       "      <td>5.085572e+08</td>\n",
       "    </tr>\n",
       "    <tr>\n",
       "      <th>2024-12-31</th>\n",
       "      <td>1.106162e+08</td>\n",
       "      <td>-2.709936e+08</td>\n",
       "      <td>4.922259e+08</td>\n",
       "    </tr>\n",
       "    <tr>\n",
       "      <th>2025-01-31</th>\n",
       "      <td>9.334661e+07</td>\n",
       "      <td>-2.911917e+08</td>\n",
       "      <td>4.778850e+08</td>\n",
       "    </tr>\n",
       "    <tr>\n",
       "      <th>2025-02-28</th>\n",
       "      <td>2.982512e+08</td>\n",
       "      <td>-8.835860e+07</td>\n",
       "      <td>6.848609e+08</td>\n",
       "    </tr>\n",
       "    <tr>\n",
       "      <th>2025-03-31</th>\n",
       "      <td>2.594780e+08</td>\n",
       "      <td>-1.285997e+08</td>\n",
       "      <td>6.475558e+08</td>\n",
       "    </tr>\n",
       "    <tr>\n",
       "      <th>2025-04-30</th>\n",
       "      <td>3.452814e+08</td>\n",
       "      <td>-4.383799e+07</td>\n",
       "      <td>7.344009e+08</td>\n",
       "    </tr>\n",
       "    <tr>\n",
       "      <th>2025-05-31</th>\n",
       "      <td>5.623096e+08</td>\n",
       "      <td>1.724503e+08</td>\n",
       "      <td>9.521690e+08</td>\n",
       "    </tr>\n",
       "    <tr>\n",
       "      <th>2025-06-30</th>\n",
       "      <td>6.038876e+08</td>\n",
       "      <td>2.135023e+08</td>\n",
       "      <td>9.942729e+08</td>\n",
       "    </tr>\n",
       "    <tr>\n",
       "      <th>2025-07-31</th>\n",
       "      <td>2.685201e+08</td>\n",
       "      <td>-1.222392e+08</td>\n",
       "      <td>6.592794e+08</td>\n",
       "    </tr>\n",
       "  </tbody>\n",
       "</table>\n",
       "</div>"
      ],
      "text/plain": [
       "            KG_LIQUIDO_PRED  IF_KG_LIQUIDO_PRED  IS_KG_LIQUIDO_PRED\n",
       "2023-08-31     3.853597e+08        2.051469e+08        5.655725e+08\n",
       "2023-09-30     3.106368e+08        7.484527e+07        5.464283e+08\n",
       "2023-10-31     2.540922e+08       -1.434416e+07        5.225285e+08\n",
       "2023-11-30     2.132986e+08       -7.614342e+07        5.027406e+08\n",
       "2023-12-31     1.799723e+08       -1.235396e+08        4.834842e+08\n",
       "2024-01-31     1.518664e+08       -1.612772e+08        4.650099e+08\n",
       "2024-02-29     3.476276e+08        2.780368e+07        6.674516e+08\n",
       "2024-03-31     3.011398e+08       -2.335629e+07        6.256359e+08\n",
       "2024-04-30     3.804338e+08        5.265215e+07        7.082155e+08\n",
       "2024-05-31     5.919697e+08        2.618688e+08        9.220706e+08\n",
       "2024-06-30     6.289135e+08        2.971714e+08        9.606557e+08\n",
       "2024-07-31     2.896359e+08       -4.326972e+07        6.225415e+08\n",
       "2024-08-31     2.485191e+08       -1.023296e+08        5.993678e+08\n",
       "2024-09-30     1.951766e+08       -1.679064e+08        5.582595e+08\n",
       "2024-10-31     1.566718e+08       -2.148756e+08        5.282192e+08\n",
       "2024-11-30     1.310994e+08       -2.463583e+08        5.085572e+08\n",
       "2024-12-31     1.106162e+08       -2.709936e+08        4.922259e+08\n",
       "2025-01-31     9.334661e+07       -2.911917e+08        4.778850e+08\n",
       "2025-02-28     2.982512e+08       -8.835860e+07        6.848609e+08\n",
       "2025-03-31     2.594780e+08       -1.285997e+08        6.475558e+08\n",
       "2025-04-30     3.452814e+08       -4.383799e+07        7.344009e+08\n",
       "2025-05-31     5.623096e+08        1.724503e+08        9.521690e+08\n",
       "2025-06-30     6.038876e+08        2.135023e+08        9.942729e+08\n",
       "2025-07-31     2.685201e+08       -1.222392e+08        6.592794e+08"
      ]
     },
     "execution_count": 59,
     "metadata": {},
     "output_type": "execute_result"
    }
   ],
   "source": [
    "# Exiba as previsões\n",
    "df_PRED_ARG"
   ]
  },
  {
   "cell_type": "code",
   "execution_count": 62,
   "id": "8b5521b3",
   "metadata": {},
   "outputs": [
    {
     "data": {
      "text/html": [
       "<div>\n",
       "<style scoped>\n",
       "    .dataframe tbody tr th:only-of-type {\n",
       "        vertical-align: middle;\n",
       "    }\n",
       "\n",
       "    .dataframe tbody tr th {\n",
       "        vertical-align: top;\n",
       "    }\n",
       "\n",
       "    .dataframe thead th {\n",
       "        text-align: right;\n",
       "    }\n",
       "</style>\n",
       "<table border=\"1\" class=\"dataframe\">\n",
       "  <thead>\n",
       "    <tr style=\"text-align: right;\">\n",
       "      <th></th>\n",
       "      <th>KG_LIQUIDO</th>\n",
       "    </tr>\n",
       "    <tr>\n",
       "      <th>DATA</th>\n",
       "      <th></th>\n",
       "    </tr>\n",
       "  </thead>\n",
       "  <tbody>\n",
       "    <tr>\n",
       "      <th>2013-02-01</th>\n",
       "      <td>116000.0</td>\n",
       "    </tr>\n",
       "    <tr>\n",
       "      <th>2013-03-01</th>\n",
       "      <td>438000.0</td>\n",
       "    </tr>\n",
       "    <tr>\n",
       "      <th>2013-04-01</th>\n",
       "      <td>116000.0</td>\n",
       "    </tr>\n",
       "    <tr>\n",
       "      <th>2013-05-01</th>\n",
       "      <td>48000.0</td>\n",
       "    </tr>\n",
       "    <tr>\n",
       "      <th>2013-06-01</th>\n",
       "      <td>0.0</td>\n",
       "    </tr>\n",
       "  </tbody>\n",
       "</table>\n",
       "</div>"
      ],
      "text/plain": [
       "            KG_LIQUIDO\n",
       "DATA                  \n",
       "2013-02-01    116000.0\n",
       "2013-03-01    438000.0\n",
       "2013-04-01    116000.0\n",
       "2013-05-01     48000.0\n",
       "2013-06-01         0.0"
      ]
     },
     "execution_count": 62,
     "metadata": {},
     "output_type": "execute_result"
    }
   ],
   "source": [
    "df_st_1201_ARG.head()"
   ]
  },
  {
   "cell_type": "code",
   "execution_count": 63,
   "id": "4f16bbfc",
   "metadata": {},
   "outputs": [],
   "source": [
    "df_1201_ARG_2020 = df_st_1201_ARG.loc['2020-01-01':]"
   ]
  },
  {
   "cell_type": "code",
   "execution_count": 45,
   "id": "ec2be1d9",
   "metadata": {},
   "outputs": [],
   "source": [
    "import matplotlib.pyplot as plt"
   ]
  },
  {
   "cell_type": "code",
   "execution_count": 61,
   "id": "af074dd9",
   "metadata": {},
   "outputs": [
    {
     "data": {
      "image/png": "[encoded data removed]",
      "text/plain": [
       "<Figure size 640x480 with 1 Axes>"
      ]
     },
     "metadata": {},
     "output_type": "display_data"
    }
   ],
   "source": [
    "plt.plot(df_st_1201_ARG)\n",
    "plt.plot(df_PRED_ARG['KG_LIQUIDO_PRED'])\n",
    "plt.show()"
   ]
  },
  {
   "cell_type": "code",
   "execution_count": 64,
   "id": "5ff53777",
   "metadata": {},
   "outputs": [
    {
     "data": {
      "image/png": "[encoded data removed]",
      "text/plain": [
       "<Figure size 640x480 with 1 Axes>"
      ]
     },
     "metadata": {},
     "output_type": "display_data"
    }
   ],
   "source": [
    "plt.plot(df_1201_ARG_2020)\n",
    "plt.plot(df_PRED_ARG['KG_LIQUIDO_PRED'])\n",
    "plt.show()"
   ]
  },
  {
   "cell_type": "code",
   "execution_count": null,
   "id": "1c9294e8",
   "metadata": {},
   "outputs": [],
   "source": [
    "|SH4|DESTINO|DATA FUTURO|QTDADE ESPERADA|"
   ]
  },
  {
   "cell_type": "code",
   "execution_count": 66,
   "id": "412edbe3",
   "metadata": {},
   "outputs": [
    {
     "data": {
      "text/html": [
       "<div>\n",
       "<style scoped>\n",
       "    .dataframe tbody tr th:only-of-type {\n",
       "        vertical-align: middle;\n",
       "    }\n",
       "\n",
       "    .dataframe tbody tr th {\n",
       "        vertical-align: top;\n",
       "    }\n",
       "\n",
       "    .dataframe thead th {\n",
       "        text-align: right;\n",
       "    }\n",
       "</style>\n",
       "<table border=\"1\" class=\"dataframe\">\n",
       "  <thead>\n",
       "    <tr style=\"text-align: right;\">\n",
       "      <th></th>\n",
       "      <th>CO_ANO</th>\n",
       "      <th>CO_MES</th>\n",
       "      <th>CO_SH4</th>\n",
       "      <th>NO_SH4_POR</th>\n",
       "      <th>CO_NCM</th>\n",
       "      <th>NO_NCM_POR</th>\n",
       "      <th>NO_ISIC_SECAO</th>\n",
       "      <th>SG_UF_NCM</th>\n",
       "      <th>NO_URF2</th>\n",
       "      <th>LAT</th>\n",
       "      <th>LONG</th>\n",
       "      <th>NO_ISIC_CLASSE</th>\n",
       "      <th>VL_FOB</th>\n",
       "      <th>NO_VIA</th>\n",
       "      <th>TIPO</th>\n",
       "      <th>NO_PAIS</th>\n",
       "      <th>KG_LIQUIDO</th>\n",
       "      <th>SG_UNID</th>\n",
       "      <th>CADEIA PRODUTIVA</th>\n",
       "    </tr>\n",
       "  </thead>\n",
       "  <tbody>\n",
       "    <tr>\n",
       "      <th>0</th>\n",
       "      <td>2023</td>\n",
       "      <td>04</td>\n",
       "      <td>1201</td>\n",
       "      <td>Soja; mesmo triturada</td>\n",
       "      <td>12019000</td>\n",
       "      <td>Soja, mesmo triturada, exceto para semeadura</td>\n",
       "      <td>Agropecuária</td>\n",
       "      <td>BA</td>\n",
       "      <td>ALF - SALVADOR</td>\n",
       "      <td>-21.923333</td>\n",
       "      <td>-46.391856</td>\n",
       "      <td>Cultivo de cereais (exceto arroz), leguminosas...</td>\n",
       "      <td>139576595.0</td>\n",
       "      <td>MARITIMA</td>\n",
       "      <td>EXPORTAÇÃO</td>\n",
       "      <td>China</td>\n",
       "      <td>260513154.0</td>\n",
       "      <td>TML</td>\n",
       "      <td>Agronegócio</td>\n",
       "    </tr>\n",
       "    <tr>\n",
       "      <th>1</th>\n",
       "      <td>2023</td>\n",
       "      <td>03</td>\n",
       "      <td>1201</td>\n",
       "      <td>Soja; mesmo triturada</td>\n",
       "      <td>12019000</td>\n",
       "      <td>Soja, mesmo triturada, exceto para semeadura</td>\n",
       "      <td>Agropecuária</td>\n",
       "      <td>PA</td>\n",
       "      <td>ALF - BELÉM</td>\n",
       "      <td>-1.456343</td>\n",
       "      <td>-48.501299</td>\n",
       "      <td>Cultivo de cereais (exceto arroz), leguminosas...</td>\n",
       "      <td>382972.0</td>\n",
       "      <td>MARITIMA</td>\n",
       "      <td>EXPORTAÇÃO</td>\n",
       "      <td>Espanha</td>\n",
       "      <td>680218.0</td>\n",
       "      <td>TML</td>\n",
       "      <td>Agronegócio</td>\n",
       "    </tr>\n",
       "  </tbody>\n",
       "</table>\n",
       "</div>"
      ],
      "text/plain": [
       "  CO_ANO CO_MES CO_SH4             NO_SH4_POR    CO_NCM  \\\n",
       "0   2023     04   1201  Soja; mesmo triturada  12019000   \n",
       "1   2023     03   1201  Soja; mesmo triturada  12019000   \n",
       "\n",
       "                                     NO_NCM_POR NO_ISIC_SECAO SG_UF_NCM  \\\n",
       "0  Soja, mesmo triturada, exceto para semeadura  Agropecuária        BA   \n",
       "1  Soja, mesmo triturada, exceto para semeadura  Agropecuária        PA   \n",
       "\n",
       "          NO_URF2        LAT       LONG  \\\n",
       "0  ALF - SALVADOR -21.923333 -46.391856   \n",
       "1     ALF - BELÉM  -1.456343 -48.501299   \n",
       "\n",
       "                                      NO_ISIC_CLASSE       VL_FOB    NO_VIA  \\\n",
       "0  Cultivo de cereais (exceto arroz), leguminosas...  139576595.0  MARITIMA   \n",
       "1  Cultivo de cereais (exceto arroz), leguminosas...     382972.0  MARITIMA   \n",
       "\n",
       "         TIPO  NO_PAIS   KG_LIQUIDO SG_UNID CADEIA PRODUTIVA  \n",
       "0  EXPORTAÇÃO    China  260513154.0   TML        Agronegócio  \n",
       "1  EXPORTAÇÃO  Espanha     680218.0   TML        Agronegócio  "
      ]
     },
     "execution_count": 66,
     "metadata": {},
     "output_type": "execute_result"
    }
   ],
   "source": [
    "df_1201.head(2)"
   ]
  },
  {
   "cell_type": "code",
   "execution_count": 67,
   "id": "e903ec74",
   "metadata": {},
   "outputs": [],
   "source": [
    "chave_exp=['CO_MES','CO_SH4','NO_PAIS','NO_VIA']\n",
    "var_int_exp=['KG_LIQUIDO']\n",
    "\n",
    "df_1201_classif_group = df_1201.groupby(chave_exp)[var_int_exp].sum().reset_index()"
   ]
  },
  {
   "cell_type": "code",
   "execution_count": 70,
   "id": "8b57d66c",
   "metadata": {},
   "outputs": [
    {
     "data": {
      "text/html": [
       "<div>\n",
       "<style scoped>\n",
       "    .dataframe tbody tr th:only-of-type {\n",
       "        vertical-align: middle;\n",
       "    }\n",
       "\n",
       "    .dataframe tbody tr th {\n",
       "        vertical-align: top;\n",
       "    }\n",
       "\n",
       "    .dataframe thead th {\n",
       "        text-align: right;\n",
       "    }\n",
       "</style>\n",
       "<table border=\"1\" class=\"dataframe\">\n",
       "  <thead>\n",
       "    <tr style=\"text-align: right;\">\n",
       "      <th></th>\n",
       "      <th>CO_MES</th>\n",
       "      <th>CO_SH4</th>\n",
       "      <th>NO_PAIS</th>\n",
       "      <th>NO_VIA</th>\n",
       "      <th>KG_LIQUIDO</th>\n",
       "    </tr>\n",
       "  </thead>\n",
       "  <tbody>\n",
       "    <tr>\n",
       "      <th>0</th>\n",
       "      <td>01</td>\n",
       "      <td>1201</td>\n",
       "      <td>Alemanha</td>\n",
       "      <td>FLUVIAL</td>\n",
       "      <td>691417.0</td>\n",
       "    </tr>\n",
       "    <tr>\n",
       "      <th>1</th>\n",
       "      <td>01</td>\n",
       "      <td>1201</td>\n",
       "      <td>Alemanha</td>\n",
       "      <td>MARITIMA</td>\n",
       "      <td>229700942.0</td>\n",
       "    </tr>\n",
       "  </tbody>\n",
       "</table>\n",
       "</div>"
      ],
      "text/plain": [
       "  CO_MES CO_SH4   NO_PAIS    NO_VIA   KG_LIQUIDO\n",
       "0     01   1201  Alemanha   FLUVIAL     691417.0\n",
       "1     01   1201  Alemanha  MARITIMA  229700942.0"
      ]
     },
     "execution_count": 70,
     "metadata": {},
     "output_type": "execute_result"
    }
   ],
   "source": [
    "df_1201_classif_group.head(2)"
   ]
  },
  {
   "cell_type": "code",
   "execution_count": null,
   "id": "d8af2fb6",
   "metadata": {},
   "outputs": [],
   "source": [
    "#df_1201_classif = df_1201[['CO_MES','CO_SH4','NO_PAIS','NO_VIA','KG_LIQUIDO']]"
   ]
  },
  {
   "cell_type": "code",
   "execution_count": null,
   "id": "0d5f6f89",
   "metadata": {},
   "outputs": [],
   "source": [
    "#df_1201_classif=df_1201_classif.loc[df_1201_classif['NO_PAIS']=='Argentina']"
   ]
  },
  {
   "cell_type": "code",
   "execution_count": 69,
   "id": "50117966",
   "metadata": {},
   "outputs": [],
   "source": [
    "from sklearn.preprocessing import LabelEncoder"
   ]
  },
  {
   "cell_type": "code",
   "execution_count": 71,
   "id": "39dc2257",
   "metadata": {},
   "outputs": [],
   "source": [
    "# Initialize LabelEncoder\n",
    "label_encoder_mes = LabelEncoder()\n",
    "\n",
    "df_1201_classif_group['CO_MES_encoded'] = label_encoder_mes.fit_transform(df_1201_classif_group['CO_MES'])"
   ]
  },
  {
   "cell_type": "code",
   "execution_count": 72,
   "id": "9e606153",
   "metadata": {},
   "outputs": [],
   "source": [
    "# Initialize LabelEncoder\n",
    "label_encoder_sh4 = LabelEncoder()\n",
    "\n",
    "df_1201_classif_group['CO_SH4_encoded'] = label_encoder_sh4.fit_transform(df_1201_classif_group['CO_SH4'])"
   ]
  },
  {
   "cell_type": "code",
   "execution_count": 73,
   "id": "05bb0e36",
   "metadata": {},
   "outputs": [],
   "source": [
    "# Initialize LabelEncoder\n",
    "label_encoder_pais = LabelEncoder()\n",
    "\n",
    "df_1201_classif_group['NO_PAIS_encoded'] = label_encoder_pais.fit_transform(df_1201_classif_group['NO_PAIS'])"
   ]
  },
  {
   "cell_type": "code",
   "execution_count": 74,
   "id": "259d7a29",
   "metadata": {},
   "outputs": [],
   "source": [
    "# Initialize LabelEncoder\n",
    "label_encoder_via = LabelEncoder()\n",
    "\n",
    "df_1201_classif_group['NO_VIA_encoded'] = label_encoder_via.fit_transform(df_1201_classif_group['NO_VIA'])"
   ]
  },
  {
   "cell_type": "code",
   "execution_count": 76,
   "id": "1943e8bb",
   "metadata": {},
   "outputs": [
    {
     "data": {
      "text/html": [
       "<div>\n",
       "<style scoped>\n",
       "    .dataframe tbody tr th:only-of-type {\n",
       "        vertical-align: middle;\n",
       "    }\n",
       "\n",
       "    .dataframe tbody tr th {\n",
       "        vertical-align: top;\n",
       "    }\n",
       "\n",
       "    .dataframe thead th {\n",
       "        text-align: right;\n",
       "    }\n",
       "</style>\n",
       "<table border=\"1\" class=\"dataframe\">\n",
       "  <thead>\n",
       "    <tr style=\"text-align: right;\">\n",
       "      <th></th>\n",
       "      <th>CO_MES</th>\n",
       "      <th>CO_SH4</th>\n",
       "      <th>NO_PAIS</th>\n",
       "      <th>NO_VIA</th>\n",
       "      <th>KG_LIQUIDO</th>\n",
       "      <th>CO_MES_encoded</th>\n",
       "      <th>CO_SH4_encoded</th>\n",
       "      <th>NO_PAIS_encoded</th>\n",
       "      <th>NO_VIA_encoded</th>\n",
       "    </tr>\n",
       "  </thead>\n",
       "  <tbody>\n",
       "    <tr>\n",
       "      <th>0</th>\n",
       "      <td>01</td>\n",
       "      <td>1201</td>\n",
       "      <td>Alemanha</td>\n",
       "      <td>FLUVIAL</td>\n",
       "      <td>691417.0</td>\n",
       "      <td>0</td>\n",
       "      <td>0</td>\n",
       "      <td>1</td>\n",
       "      <td>3</td>\n",
       "    </tr>\n",
       "    <tr>\n",
       "      <th>1</th>\n",
       "      <td>01</td>\n",
       "      <td>1201</td>\n",
       "      <td>Alemanha</td>\n",
       "      <td>MARITIMA</td>\n",
       "      <td>229700942.0</td>\n",
       "      <td>0</td>\n",
       "      <td>0</td>\n",
       "      <td>1</td>\n",
       "      <td>5</td>\n",
       "    </tr>\n",
       "    <tr>\n",
       "      <th>2</th>\n",
       "      <td>01</td>\n",
       "      <td>1201</td>\n",
       "      <td>Angola</td>\n",
       "      <td>MARITIMA</td>\n",
       "      <td>22060.0</td>\n",
       "      <td>0</td>\n",
       "      <td>0</td>\n",
       "      <td>2</td>\n",
       "      <td>5</td>\n",
       "    </tr>\n",
       "    <tr>\n",
       "      <th>3</th>\n",
       "      <td>01</td>\n",
       "      <td>1201</td>\n",
       "      <td>Argentina</td>\n",
       "      <td>AEREA</td>\n",
       "      <td>704.0</td>\n",
       "      <td>0</td>\n",
       "      <td>0</td>\n",
       "      <td>5</td>\n",
       "      <td>0</td>\n",
       "    </tr>\n",
       "    <tr>\n",
       "      <th>4</th>\n",
       "      <td>01</td>\n",
       "      <td>1201</td>\n",
       "      <td>Argentina</td>\n",
       "      <td>RODOVIARIA</td>\n",
       "      <td>1069340.0</td>\n",
       "      <td>0</td>\n",
       "      <td>0</td>\n",
       "      <td>5</td>\n",
       "      <td>7</td>\n",
       "    </tr>\n",
       "  </tbody>\n",
       "</table>\n",
       "</div>"
      ],
      "text/plain": [
       "  CO_MES CO_SH4    NO_PAIS      NO_VIA   KG_LIQUIDO  CO_MES_encoded  \\\n",
       "0     01   1201   Alemanha     FLUVIAL     691417.0               0   \n",
       "1     01   1201   Alemanha    MARITIMA  229700942.0               0   \n",
       "2     01   1201     Angola    MARITIMA      22060.0               0   \n",
       "3     01   1201  Argentina       AEREA        704.0               0   \n",
       "4     01   1201  Argentina  RODOVIARIA    1069340.0               0   \n",
       "\n",
       "   CO_SH4_encoded  NO_PAIS_encoded  NO_VIA_encoded  \n",
       "0               0                1               3  \n",
       "1               0                1               5  \n",
       "2               0                2               5  \n",
       "3               0                5               0  \n",
       "4               0                5               7  "
      ]
     },
     "execution_count": 76,
     "metadata": {},
     "output_type": "execute_result"
    }
   ],
   "source": [
    "df_1201_classif_group.head()"
   ]
  },
  {
   "cell_type": "code",
   "execution_count": 77,
   "id": "81c08044",
   "metadata": {},
   "outputs": [],
   "source": [
    "import xgboost as xgb\n",
    "from sklearn.model_selection import train_test_split\n",
    "from sklearn.metrics import accuracy_score"
   ]
  },
  {
   "cell_type": "code",
   "execution_count": 78,
   "id": "94294be3",
   "metadata": {},
   "outputs": [],
   "source": [
    "X = df_1201_classif_group[['KG_LIQUIDO', 'CO_MES_encoded', 'CO_SH4_encoded', 'NO_PAIS_encoded']]\n",
    "y = df_1201_classif_group['NO_VIA_encoded']"
   ]
  },
  {
   "cell_type": "code",
   "execution_count": 79,
   "id": "929b1314",
   "metadata": {},
   "outputs": [],
   "source": [
    "# Split the data into training and testing sets\n",
    "X_train, X_test, y_train, y_test = train_test_split(X, y, test_size=0.2, random_state=42)"
   ]
  },
  {
   "cell_type": "code",
   "execution_count": 80,
   "id": "7ac202d6",
   "metadata": {},
   "outputs": [],
   "source": [
    "# Instantiate XGBoost classifier\n",
    "xgb_classifier = xgb.XGBClassifier(objective=\"multi:softmax\", random_state=42)"
   ]
  },
  {
   "cell_type": "code",
   "execution_count": 81,
   "id": "1d68eb22",
   "metadata": {},
   "outputs": [
    {
     "data": {
      "text/html": [
       "<style>#sk-container-id-1 {color: black;background-color: white;}#sk-container-id-1 pre{padding: 0;}#sk-container-id-1 div.sk-toggleable {background-color: white;}#sk-container-id-1 label.sk-toggleable__label {cursor: pointer;display: block;width: 100%;margin-bottom: 0;padding: 0.3em;box-sizing: border-box;text-align: center;}#sk-container-id-1 label.sk-toggleable__label-arrow:before {content: \"▸\";float: left;margin-right: 0.25em;color: #696969;}#sk-container-id-1 label.sk-toggleable__label-arrow:hover:before {color: black;}#sk-container-id-1 div.sk-estimator:hover label.sk-toggleable__label-arrow:before {color: black;}#sk-container-id-1 div.sk-toggleable__content {max-height: 0;max-width: 0;overflow: hidden;text-align: left;background-color: #f0f8ff;}#sk-container-id-1 div.sk-toggleable__content pre {margin: 0.2em;color: black;border-radius: 0.25em;background-color: #f0f8ff;}#sk-container-id-1 input.sk-toggleable__control:checked~div.sk-toggleable__content {max-height: 200px;max-width: 100%;overflow: auto;}#sk-container-id-1 input.sk-toggleable__control:checked~label.sk-toggleable__label-arrow:before {content: \"▾\";}#sk-container-id-1 div.sk-estimator input.sk-toggleable__control:checked~label.sk-toggleable__label {background-color: #d4ebff;}#sk-container-id-1 div.sk-label input.sk-toggleable__control:checked~label.sk-toggleable__label {background-color: #d4ebff;}#sk-container-id-1 input.sk-hidden--visually {border: 0;clip: rect(1px 1px 1px 1px);clip: rect(1px, 1px, 1px, 1px);height: 1px;margin: -1px;overflow: hidden;padding: 0;position: absolute;width: 1px;}#sk-container-id-1 div.sk-estimator {font-family: monospace;background-color: #f0f8ff;border: 1px dotted black;border-radius: 0.25em;box-sizing: border-box;margin-bottom: 0.5em;}#sk-container-id-1 div.sk-estimator:hover {background-color: #d4ebff;}#sk-container-id-1 div.sk-parallel-item::after {content: \"\";width: 100%;border-bottom: 1px solid gray;flex-grow: 1;}#sk-container-id-1 div.sk-label:hover label.sk-toggleable__label {background-color: #d4ebff;}#sk-container-id-1 div.sk-serial::before {content: \"\";position: absolute;border-left: 1px solid gray;box-sizing: border-box;top: 0;bottom: 0;left: 50%;z-index: 0;}#sk-container-id-1 div.sk-serial {display: flex;flex-direction: column;align-items: center;background-color: white;padding-right: 0.2em;padding-left: 0.2em;position: relative;}#sk-container-id-1 div.sk-item {position: relative;z-index: 1;}#sk-container-id-1 div.sk-parallel {display: flex;align-items: stretch;justify-content: center;background-color: white;position: relative;}#sk-container-id-1 div.sk-item::before, #sk-container-id-1 div.sk-parallel-item::before {content: \"\";position: absolute;border-left: 1px solid gray;box-sizing: border-box;top: 0;bottom: 0;left: 50%;z-index: -1;}#sk-container-id-1 div.sk-parallel-item {display: flex;flex-direction: column;z-index: 1;position: relative;background-color: white;}#sk-container-id-1 div.sk-parallel-item:first-child::after {align-self: flex-end;width: 50%;}#sk-container-id-1 div.sk-parallel-item:last-child::after {align-self: flex-start;width: 50%;}#sk-container-id-1 div.sk-parallel-item:only-child::after {width: 0;}#sk-container-id-1 div.sk-dashed-wrapped {border: 1px dashed gray;margin: 0 0.4em 0.5em 0.4em;box-sizing: border-box;padding-bottom: 0.4em;background-color: white;}#sk-container-id-1 div.sk-label label {font-family: monospace;font-weight: bold;display: inline-block;line-height: 1.2em;}#sk-container-id-1 div.sk-label-container {text-align: center;}#sk-container-id-1 div.sk-container {/* jupyter's `normalize.less` sets `[hidden] { display: none; }` but bootstrap.min.css set `[hidden] { display: none !important; }` so we also need the `!important` here to be able to override the default hidden behavior on the sphinx rendered scikit-learn.org. See: https://github.com/scikit-learn/scikit-learn/issues/21755 */display: inline-block !important;position: relative;}#sk-container-id-1 div.sk-text-repr-fallback {display: none;}</style><div id=\"sk-container-id-1\" class=\"sk-top-container\"><div class=\"sk-text-repr-fallback\"><pre>XGBClassifier(base_score=None, booster=None, callbacks=None,\n",
       "              colsample_bylevel=None, colsample_bynode=None,\n",
       "              colsample_bytree=None, device=None, early_stopping_rounds=None,\n",
       "              enable_categorical=False, eval_metric=None, feature_types=None,\n",
       "              gamma=None, grow_policy=None, importance_type=None,\n",
       "              interaction_constraints=None, learning_rate=None, max_bin=None,\n",
       "              max_cat_threshold=None, max_cat_to_onehot=None,\n",
       "              max_delta_step=None, max_depth=None, max_leaves=None,\n",
       "              min_child_weight=None, missing=nan, monotone_constraints=None,\n",
       "              multi_strategy=None, n_estimators=None, n_jobs=None,\n",
       "              num_parallel_tree=None, objective=&#x27;multi:softmax&#x27;, ...)</pre><b>In a Jupyter environment, please rerun this cell to show the HTML representation or trust the notebook. <br />On GitHub, the HTML representation is unable to render, please try loading this page with nbviewer.org.</b></div><div class=\"sk-container\" hidden><div class=\"sk-item\"><div class=\"sk-estimator sk-toggleable\"><input class=\"sk-toggleable__control sk-hidden--visually\" id=\"sk-estimator-id-1\" type=\"checkbox\" checked><label for=\"sk-estimator-id-1\" class=\"sk-toggleable__label sk-toggleable__label-arrow\">XGBClassifier</label><div class=\"sk-toggleable__content\"><pre>XGBClassifier(base_score=None, booster=None, callbacks=None,\n",
       "              colsample_bylevel=None, colsample_bynode=None,\n",
       "              colsample_bytree=None, device=None, early_stopping_rounds=None,\n",
       "              enable_categorical=False, eval_metric=None, feature_types=None,\n",
       "              gamma=None, grow_policy=None, importance_type=None,\n",
       "              interaction_constraints=None, learning_rate=None, max_bin=None,\n",
       "              max_cat_threshold=None, max_cat_to_onehot=None,\n",
       "              max_delta_step=None, max_depth=None, max_leaves=None,\n",
       "              min_child_weight=None, missing=nan, monotone_constraints=None,\n",
       "              multi_strategy=None, n_estimators=None, n_jobs=None,\n",
       "              num_parallel_tree=None, objective=&#x27;multi:softmax&#x27;, ...)</pre></div></div></div></div></div>"
      ],
      "text/plain": [
       "XGBClassifier(base_score=None, booster=None, callbacks=None,\n",
       "              colsample_bylevel=None, colsample_bynode=None,\n",
       "              colsample_bytree=None, device=None, early_stopping_rounds=None,\n",
       "              enable_categorical=False, eval_metric=None, feature_types=None,\n",
       "              gamma=None, grow_policy=None, importance_type=None,\n",
       "              interaction_constraints=None, learning_rate=None, max_bin=None,\n",
       "              max_cat_threshold=None, max_cat_to_onehot=None,\n",
       "              max_delta_step=None, max_depth=None, max_leaves=None,\n",
       "              min_child_weight=None, missing=nan, monotone_constraints=None,\n",
       "              multi_strategy=None, n_estimators=None, n_jobs=None,\n",
       "              num_parallel_tree=None, objective='multi:softmax', ...)"
      ]
     },
     "execution_count": 81,
     "metadata": {},
     "output_type": "execute_result"
    }
   ],
   "source": [
    "# Train the classifier\n",
    "xgb_classifier.fit(X_train, y_train)"
   ]
  },
  {
   "cell_type": "code",
   "execution_count": 82,
   "id": "dd0d151f",
   "metadata": {},
   "outputs": [],
   "source": [
    "# Make predictions on the test set\n",
    "y_pred = xgb_classifier.predict(X_test)"
   ]
  },
  {
   "cell_type": "code",
   "execution_count": 83,
   "id": "dd6c09ba",
   "metadata": {},
   "outputs": [
    {
     "name": "stdout",
     "output_type": "stream",
     "text": [
      "Accuracy: 0.82\n"
     ]
    }
   ],
   "source": [
    "# Evaluate the accuracy\n",
    "accuracy = accuracy_score(y_test, y_pred)\n",
    "print(f\"Accuracy: {accuracy:.2f}\")"
   ]
  },
  {
   "cell_type": "code",
   "execution_count": 85,
   "id": "3dc32fa5",
   "metadata": {},
   "outputs": [
    {
     "data": {
      "text/html": [
       "<div>\n",
       "<style scoped>\n",
       "    .dataframe tbody tr th:only-of-type {\n",
       "        vertical-align: middle;\n",
       "    }\n",
       "\n",
       "    .dataframe tbody tr th {\n",
       "        vertical-align: top;\n",
       "    }\n",
       "\n",
       "    .dataframe thead th {\n",
       "        text-align: right;\n",
       "    }\n",
       "</style>\n",
       "<table border=\"1\" class=\"dataframe\">\n",
       "  <thead>\n",
       "    <tr style=\"text-align: right;\">\n",
       "      <th></th>\n",
       "      <th>KG_LIQUIDO</th>\n",
       "      <th>CO_MES_encoded</th>\n",
       "      <th>CO_SH4_encoded</th>\n",
       "      <th>NO_PAIS_encoded</th>\n",
       "    </tr>\n",
       "  </thead>\n",
       "  <tbody>\n",
       "    <tr>\n",
       "      <th>319</th>\n",
       "      <td>4919985.0</td>\n",
       "      <td>3</td>\n",
       "      <td>0</td>\n",
       "      <td>57</td>\n",
       "    </tr>\n",
       "    <tr>\n",
       "      <th>956</th>\n",
       "      <td>50748368.0</td>\n",
       "      <td>9</td>\n",
       "      <td>0</td>\n",
       "      <td>32</td>\n",
       "    </tr>\n",
       "  </tbody>\n",
       "</table>\n",
       "</div>"
      ],
      "text/plain": [
       "     KG_LIQUIDO  CO_MES_encoded  CO_SH4_encoded  NO_PAIS_encoded\n",
       "319   4919985.0               3               0               57\n",
       "956  50748368.0               9               0               32"
      ]
     },
     "execution_count": 85,
     "metadata": {},
     "output_type": "execute_result"
    }
   ],
   "source": [
    "X_test.head(2)"
   ]
  },
  {
   "cell_type": "code",
   "execution_count": 86,
   "id": "aff8a366",
   "metadata": {},
   "outputs": [],
   "source": [
    "df_final = df_PRED_ARG.reset_index()"
   ]
  },
  {
   "cell_type": "code",
   "execution_count": 87,
   "id": "604a1a3f",
   "metadata": {},
   "outputs": [],
   "source": [
    "df_final['CO_MES']=df_final['index'].dt.strftime('%m')"
   ]
  },
  {
   "cell_type": "code",
   "execution_count": 95,
   "id": "ed25e13c",
   "metadata": {},
   "outputs": [],
   "source": [
    "df_final.rename(columns={'KG_LIQUIDO_PRED' : 'KG_LIQUIDO'}, inplace=True)"
   ]
  },
  {
   "cell_type": "code",
   "execution_count": 96,
   "id": "cc0d5861",
   "metadata": {},
   "outputs": [],
   "source": [
    "df_final['CO_SH4']='1201'\n",
    "df_final['NO_PAIS']='Argentina'"
   ]
  },
  {
   "cell_type": "code",
   "execution_count": 97,
   "id": "9e96013c",
   "metadata": {},
   "outputs": [
    {
     "data": {
      "text/html": [
       "<div>\n",
       "<style scoped>\n",
       "    .dataframe tbody tr th:only-of-type {\n",
       "        vertical-align: middle;\n",
       "    }\n",
       "\n",
       "    .dataframe tbody tr th {\n",
       "        vertical-align: top;\n",
       "    }\n",
       "\n",
       "    .dataframe thead th {\n",
       "        text-align: right;\n",
       "    }\n",
       "</style>\n",
       "<table border=\"1\" class=\"dataframe\">\n",
       "  <thead>\n",
       "    <tr style=\"text-align: right;\">\n",
       "      <th></th>\n",
       "      <th>index</th>\n",
       "      <th>KG_LIQUIDO</th>\n",
       "      <th>IF_KG_LIQUIDO_PRED</th>\n",
       "      <th>IS_KG_LIQUIDO_PRED</th>\n",
       "      <th>CO_MES</th>\n",
       "      <th>CO_SH4</th>\n",
       "      <th>NO_PAIS</th>\n",
       "      <th>CO_MES_encoded</th>\n",
       "      <th>CO_SH4_encoded</th>\n",
       "      <th>NO_PAIS_encoded</th>\n",
       "    </tr>\n",
       "  </thead>\n",
       "  <tbody>\n",
       "    <tr>\n",
       "      <th>0</th>\n",
       "      <td>2023-08-31</td>\n",
       "      <td>3.853597e+08</td>\n",
       "      <td>2.051469e+08</td>\n",
       "      <td>5.655725e+08</td>\n",
       "      <td>08</td>\n",
       "      <td>1201</td>\n",
       "      <td>Argentina</td>\n",
       "      <td>7</td>\n",
       "      <td>0</td>\n",
       "      <td>5</td>\n",
       "    </tr>\n",
       "    <tr>\n",
       "      <th>1</th>\n",
       "      <td>2023-09-30</td>\n",
       "      <td>3.106368e+08</td>\n",
       "      <td>7.484527e+07</td>\n",
       "      <td>5.464283e+08</td>\n",
       "      <td>09</td>\n",
       "      <td>1201</td>\n",
       "      <td>Argentina</td>\n",
       "      <td>8</td>\n",
       "      <td>0</td>\n",
       "      <td>5</td>\n",
       "    </tr>\n",
       "  </tbody>\n",
       "</table>\n",
       "</div>"
      ],
      "text/plain": [
       "       index    KG_LIQUIDO  IF_KG_LIQUIDO_PRED  IS_KG_LIQUIDO_PRED CO_MES  \\\n",
       "0 2023-08-31  3.853597e+08        2.051469e+08        5.655725e+08     08   \n",
       "1 2023-09-30  3.106368e+08        7.484527e+07        5.464283e+08     09   \n",
       "\n",
       "  CO_SH4    NO_PAIS  CO_MES_encoded  CO_SH4_encoded  NO_PAIS_encoded  \n",
       "0   1201  Argentina               7               0                5  \n",
       "1   1201  Argentina               8               0                5  "
      ]
     },
     "execution_count": 97,
     "metadata": {},
     "output_type": "execute_result"
    }
   ],
   "source": [
    "df_final.head(2)"
   ]
  },
  {
   "cell_type": "code",
   "execution_count": null,
   "id": "a1027ae9",
   "metadata": {},
   "outputs": [],
   "source": [
    "#df_final.drop(columns=['index','Intervalo Inferior','Intervalo Superior'], inplace=True)"
   ]
  },
  {
   "cell_type": "code",
   "execution_count": 98,
   "id": "b1680e23",
   "metadata": {},
   "outputs": [],
   "source": [
    "df_final['CO_MES_encoded']=label_encoder_mes.transform(df_final['CO_MES'])"
   ]
  },
  {
   "cell_type": "code",
   "execution_count": 99,
   "id": "47a05335",
   "metadata": {},
   "outputs": [],
   "source": [
    "df_final['CO_SH4_encoded']=label_encoder_sh4.transform(df_final['CO_SH4'])"
   ]
  },
  {
   "cell_type": "code",
   "execution_count": 100,
   "id": "72d9dcc1",
   "metadata": {},
   "outputs": [],
   "source": [
    "df_final['NO_PAIS_encoded']=label_encoder_pais.transform(df_final['NO_PAIS'])"
   ]
  },
  {
   "cell_type": "code",
   "execution_count": 101,
   "id": "47b78f70",
   "metadata": {},
   "outputs": [
    {
     "data": {
      "text/html": [
       "<div>\n",
       "<style scoped>\n",
       "    .dataframe tbody tr th:only-of-type {\n",
       "        vertical-align: middle;\n",
       "    }\n",
       "\n",
       "    .dataframe tbody tr th {\n",
       "        vertical-align: top;\n",
       "    }\n",
       "\n",
       "    .dataframe thead th {\n",
       "        text-align: right;\n",
       "    }\n",
       "</style>\n",
       "<table border=\"1\" class=\"dataframe\">\n",
       "  <thead>\n",
       "    <tr style=\"text-align: right;\">\n",
       "      <th></th>\n",
       "      <th>KG_LIQUIDO</th>\n",
       "      <th>CO_MES_encoded</th>\n",
       "      <th>CO_SH4_encoded</th>\n",
       "      <th>NO_PAIS_encoded</th>\n",
       "    </tr>\n",
       "  </thead>\n",
       "  <tbody>\n",
       "    <tr>\n",
       "      <th>0</th>\n",
       "      <td>3.853597e+08</td>\n",
       "      <td>7</td>\n",
       "      <td>0</td>\n",
       "      <td>5</td>\n",
       "    </tr>\n",
       "    <tr>\n",
       "      <th>1</th>\n",
       "      <td>3.106368e+08</td>\n",
       "      <td>8</td>\n",
       "      <td>0</td>\n",
       "      <td>5</td>\n",
       "    </tr>\n",
       "    <tr>\n",
       "      <th>2</th>\n",
       "      <td>2.540922e+08</td>\n",
       "      <td>9</td>\n",
       "      <td>0</td>\n",
       "      <td>5</td>\n",
       "    </tr>\n",
       "    <tr>\n",
       "      <th>3</th>\n",
       "      <td>2.132986e+08</td>\n",
       "      <td>10</td>\n",
       "      <td>0</td>\n",
       "      <td>5</td>\n",
       "    </tr>\n",
       "    <tr>\n",
       "      <th>4</th>\n",
       "      <td>1.799723e+08</td>\n",
       "      <td>11</td>\n",
       "      <td>0</td>\n",
       "      <td>5</td>\n",
       "    </tr>\n",
       "  </tbody>\n",
       "</table>\n",
       "</div>"
      ],
      "text/plain": [
       "     KG_LIQUIDO  CO_MES_encoded  CO_SH4_encoded  NO_PAIS_encoded\n",
       "0  3.853597e+08               7               0                5\n",
       "1  3.106368e+08               8               0                5\n",
       "2  2.540922e+08               9               0                5\n",
       "3  2.132986e+08              10               0                5\n",
       "4  1.799723e+08              11               0                5"
      ]
     },
     "execution_count": 101,
     "metadata": {},
     "output_type": "execute_result"
    }
   ],
   "source": [
    "df_final[['KG_LIQUIDO','CO_MES_encoded','CO_SH4_encoded','NO_PAIS_encoded']].head()"
   ]
  },
  {
   "cell_type": "code",
   "execution_count": 102,
   "id": "81cfeebc",
   "metadata": {},
   "outputs": [],
   "source": [
    "df_final['VIA_PRED']=xgb_classifier.predict(df_final[['KG_LIQUIDO','CO_MES_encoded','CO_SH4_encoded','NO_PAIS_encoded']])"
   ]
  },
  {
   "cell_type": "code",
   "execution_count": 103,
   "id": "5e912edd",
   "metadata": {},
   "outputs": [],
   "source": [
    "df_final['VIA_PRED_PROB']=xgb_classifier.predict_proba(df_final[['KG_LIQUIDO','CO_MES_encoded','CO_SH4_encoded','NO_PAIS_encoded']]).max(axis=1)"
   ]
  },
  {
   "cell_type": "code",
   "execution_count": 104,
   "id": "00cce456",
   "metadata": {},
   "outputs": [],
   "source": [
    "df_final['NO_VIA_PRED']=label_encoder_via.inverse_transform(df_final['VIA_PRED'])"
   ]
  },
  {
   "cell_type": "code",
   "execution_count": 105,
   "id": "2d440195",
   "metadata": {},
   "outputs": [],
   "source": [
    "pd.set_option('display.float_format', lambda x: '%.3f' % x)"
   ]
  },
  {
   "cell_type": "code",
   "execution_count": 107,
   "id": "a8bd0b68",
   "metadata": {},
   "outputs": [],
   "source": [
    "df_1201_final = df_final[['NO_PAIS','index','KG_LIQUIDO','IF_KG_LIQUIDO_PRED','IS_KG_LIQUIDO_PRED','NO_VIA_PRED','VIA_PRED_PROB']]"
   ]
  },
  {
   "cell_type": "code",
   "execution_count": 109,
   "id": "05268be6",
   "metadata": {},
   "outputs": [
    {
     "name": "stderr",
     "output_type": "stream",
     "text": [
      "C:\\Users\\jetin\\AppData\\Local\\Temp\\ipykernel_3460\\2314679246.py:1: SettingWithCopyWarning: \n",
      "A value is trying to be set on a copy of a slice from a DataFrame.\n",
      "Try using .loc[row_indexer,col_indexer] = value instead\n",
      "\n",
      "See the caveats in the documentation: https://pandas.pydata.org/pandas-docs/stable/user_guide/indexing.html#returning-a-view-versus-a-copy\n",
      "  df_1201_final['CO_SH4']='1201'\n",
      "C:\\Users\\jetin\\AppData\\Local\\Temp\\ipykernel_3460\\2314679246.py:2: SettingWithCopyWarning: \n",
      "A value is trying to be set on a copy of a slice from a DataFrame.\n",
      "Try using .loc[row_indexer,col_indexer] = value instead\n",
      "\n",
      "See the caveats in the documentation: https://pandas.pydata.org/pandas-docs/stable/user_guide/indexing.html#returning-a-view-versus-a-copy\n",
      "  df_1201_final['NO_SH4_POR']='Soja; mesmo triturada'\n",
      "C:\\Users\\jetin\\AppData\\Local\\Temp\\ipykernel_3460\\2314679246.py:3: SettingWithCopyWarning: \n",
      "A value is trying to be set on a copy of a slice from a DataFrame.\n",
      "Try using .loc[row_indexer,col_indexer] = value instead\n",
      "\n",
      "See the caveats in the documentation: https://pandas.pydata.org/pandas-docs/stable/user_guide/indexing.html#returning-a-view-versus-a-copy\n",
      "  df_1201_final['NO_ISIC_SECAO']='Agropecuária'\n",
      "C:\\Users\\jetin\\AppData\\Local\\Temp\\ipykernel_3460\\2314679246.py:4: SettingWithCopyWarning: \n",
      "A value is trying to be set on a copy of a slice from a DataFrame.\n",
      "Try using .loc[row_indexer,col_indexer] = value instead\n",
      "\n",
      "See the caveats in the documentation: https://pandas.pydata.org/pandas-docs/stable/user_guide/indexing.html#returning-a-view-versus-a-copy\n",
      "  df_1201_final['NO_ISIC_CLASSE']='Cultivo de cereais (exceto arroz), leguminosas e oleaginosas'\n",
      "C:\\Users\\jetin\\AppData\\Local\\Temp\\ipykernel_3460\\2314679246.py:5: SettingWithCopyWarning: \n",
      "A value is trying to be set on a copy of a slice from a DataFrame.\n",
      "Try using .loc[row_indexer,col_indexer] = value instead\n",
      "\n",
      "See the caveats in the documentation: https://pandas.pydata.org/pandas-docs/stable/user_guide/indexing.html#returning-a-view-versus-a-copy\n",
      "  df_1201_final['SG_UNID']='TML'\n"
     ]
    }
   ],
   "source": [
    "df_1201_final['CO_SH4']='1201'\n",
    "df_1201_final['NO_SH4_POR']='Soja; mesmo triturada'\n",
    "df_1201_final['NO_ISIC_SECAO']='Agropecuária'\n",
    "df_1201_final['NO_ISIC_CLASSE']='Cultivo de cereais (exceto arroz), leguminosas e oleaginosas'\n",
    "df_1201_final['SG_UNID']='TML'\n",
    "df_1201_final['CADEIA PRODUTIVA']='Agronegócio'"
   ]
  },
  {
   "cell_type": "code",
   "execution_count": 111,
   "id": "efe16ad3",
   "metadata": {},
   "outputs": [
    {
     "data": {
      "text/html": [
       "<div>\n",
       "<style scoped>\n",
       "    .dataframe tbody tr th:only-of-type {\n",
       "        vertical-align: middle;\n",
       "    }\n",
       "\n",
       "    .dataframe tbody tr th {\n",
       "        vertical-align: top;\n",
       "    }\n",
       "\n",
       "    .dataframe thead th {\n",
       "        text-align: right;\n",
       "    }\n",
       "</style>\n",
       "<table border=\"1\" class=\"dataframe\">\n",
       "  <thead>\n",
       "    <tr style=\"text-align: right;\">\n",
       "      <th></th>\n",
       "      <th>NO_PAIS</th>\n",
       "      <th>index</th>\n",
       "      <th>KG_LIQUIDO</th>\n",
       "      <th>IF_KG_LIQUIDO_PRED</th>\n",
       "      <th>IS_KG_LIQUIDO_PRED</th>\n",
       "      <th>NO_VIA_PRED</th>\n",
       "      <th>VIA_PRED_PROB</th>\n",
       "      <th>CO_SH4</th>\n",
       "      <th>NO_SH4_POR</th>\n",
       "      <th>NO_ISIC_SECAO</th>\n",
       "      <th>NO_ISIC_CLASSE</th>\n",
       "      <th>SG_UNID</th>\n",
       "      <th>CADEIA PRODUTIVA</th>\n",
       "    </tr>\n",
       "  </thead>\n",
       "  <tbody>\n",
       "    <tr>\n",
       "      <th>0</th>\n",
       "      <td>Argentina</td>\n",
       "      <td>2023-08-31</td>\n",
       "      <td>385359656.701</td>\n",
       "      <td>205146859.889</td>\n",
       "      <td>565572453.514</td>\n",
       "      <td>MARITIMA</td>\n",
       "      <td>0.970</td>\n",
       "      <td>1201</td>\n",
       "      <td>Soja; mesmo triturada</td>\n",
       "      <td>Agropecuária</td>\n",
       "      <td>Cultivo de cereais (exceto arroz), leguminosas...</td>\n",
       "      <td>TML</td>\n",
       "      <td>Agronegócio</td>\n",
       "    </tr>\n",
       "    <tr>\n",
       "      <th>1</th>\n",
       "      <td>Argentina</td>\n",
       "      <td>2023-09-30</td>\n",
       "      <td>310636775.409</td>\n",
       "      <td>74845271.002</td>\n",
       "      <td>546428279.817</td>\n",
       "      <td>MARITIMA</td>\n",
       "      <td>0.978</td>\n",
       "      <td>1201</td>\n",
       "      <td>Soja; mesmo triturada</td>\n",
       "      <td>Agropecuária</td>\n",
       "      <td>Cultivo de cereais (exceto arroz), leguminosas...</td>\n",
       "      <td>TML</td>\n",
       "      <td>Agronegócio</td>\n",
       "    </tr>\n",
       "    <tr>\n",
       "      <th>2</th>\n",
       "      <td>Argentina</td>\n",
       "      <td>2023-10-31</td>\n",
       "      <td>254092177.382</td>\n",
       "      <td>-14344159.084</td>\n",
       "      <td>522528513.847</td>\n",
       "      <td>MARITIMA</td>\n",
       "      <td>0.989</td>\n",
       "      <td>1201</td>\n",
       "      <td>Soja; mesmo triturada</td>\n",
       "      <td>Agropecuária</td>\n",
       "      <td>Cultivo de cereais (exceto arroz), leguminosas...</td>\n",
       "      <td>TML</td>\n",
       "      <td>Agronegócio</td>\n",
       "    </tr>\n",
       "    <tr>\n",
       "      <th>3</th>\n",
       "      <td>Argentina</td>\n",
       "      <td>2023-11-30</td>\n",
       "      <td>213298599.692</td>\n",
       "      <td>-76143415.375</td>\n",
       "      <td>502740614.759</td>\n",
       "      <td>MARITIMA</td>\n",
       "      <td>0.991</td>\n",
       "      <td>1201</td>\n",
       "      <td>Soja; mesmo triturada</td>\n",
       "      <td>Agropecuária</td>\n",
       "      <td>Cultivo de cereais (exceto arroz), leguminosas...</td>\n",
       "      <td>TML</td>\n",
       "      <td>Agronegócio</td>\n",
       "    </tr>\n",
       "    <tr>\n",
       "      <th>4</th>\n",
       "      <td>Argentina</td>\n",
       "      <td>2023-12-31</td>\n",
       "      <td>179972302.818</td>\n",
       "      <td>-123539585.890</td>\n",
       "      <td>483484191.525</td>\n",
       "      <td>MARITIMA</td>\n",
       "      <td>0.990</td>\n",
       "      <td>1201</td>\n",
       "      <td>Soja; mesmo triturada</td>\n",
       "      <td>Agropecuária</td>\n",
       "      <td>Cultivo de cereais (exceto arroz), leguminosas...</td>\n",
       "      <td>TML</td>\n",
       "      <td>Agronegócio</td>\n",
       "    </tr>\n",
       "  </tbody>\n",
       "</table>\n",
       "</div>"
      ],
      "text/plain": [
       "     NO_PAIS      index    KG_LIQUIDO  IF_KG_LIQUIDO_PRED  IS_KG_LIQUIDO_PRED  \\\n",
       "0  Argentina 2023-08-31 385359656.701       205146859.889       565572453.514   \n",
       "1  Argentina 2023-09-30 310636775.409        74845271.002       546428279.817   \n",
       "2  Argentina 2023-10-31 254092177.382       -14344159.084       522528513.847   \n",
       "3  Argentina 2023-11-30 213298599.692       -76143415.375       502740614.759   \n",
       "4  Argentina 2023-12-31 179972302.818      -123539585.890       483484191.525   \n",
       "\n",
       "  NO_VIA_PRED  VIA_PRED_PROB CO_SH4             NO_SH4_POR NO_ISIC_SECAO  \\\n",
       "0    MARITIMA          0.970   1201  Soja; mesmo triturada  Agropecuária   \n",
       "1    MARITIMA          0.978   1201  Soja; mesmo triturada  Agropecuária   \n",
       "2    MARITIMA          0.989   1201  Soja; mesmo triturada  Agropecuária   \n",
       "3    MARITIMA          0.991   1201  Soja; mesmo triturada  Agropecuária   \n",
       "4    MARITIMA          0.990   1201  Soja; mesmo triturada  Agropecuária   \n",
       "\n",
       "                                      NO_ISIC_CLASSE SG_UNID CADEIA PRODUTIVA  \n",
       "0  Cultivo de cereais (exceto arroz), leguminosas...     TML      Agronegócio  \n",
       "1  Cultivo de cereais (exceto arroz), leguminosas...     TML      Agronegócio  \n",
       "2  Cultivo de cereais (exceto arroz), leguminosas...     TML      Agronegócio  \n",
       "3  Cultivo de cereais (exceto arroz), leguminosas...     TML      Agronegócio  \n",
       "4  Cultivo de cereais (exceto arroz), leguminosas...     TML      Agronegócio  "
      ]
     },
     "execution_count": 111,
     "metadata": {},
     "output_type": "execute_result"
    }
   ],
   "source": [
    "df_1201_final.head()"
   ]
  },
  {
   "cell_type": "code",
   "execution_count": 112,
   "id": "b1862117",
   "metadata": {},
   "outputs": [],
   "source": [
    "# salvando base SP - NCM - URF\n",
    "df_1201_final.to_csv('base_1201_final.csv', index=False)"
   ]
  },
  {
   "cell_type": "code",
   "execution_count": null,
   "id": "2c9f0c5e",
   "metadata": {},
   "outputs": [],
   "source": []
  }
 ],
 "metadata": {
  "kernelspec": {
   "display_name": "Python 3 (ipykernel)",
   "language": "python",
   "name": "python3"
  },
  "language_info": {
   "codemirror_mode": {
    "name": "ipython",
    "version": 3
   },
   "file_extension": ".py",
   "mimetype": "text/x-python",
   "name": "python",
   "nbconvert_exporter": "python",
   "pygments_lexer": "ipython3",
   "version": "3.10.9"
  }
 },
 "nbformat": 4,
 "nbformat_minor": 5
}
