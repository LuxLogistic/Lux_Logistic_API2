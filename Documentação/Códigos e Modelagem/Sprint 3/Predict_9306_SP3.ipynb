{
 "cells": [
  {
   "cell_type": "code",
   "execution_count": 1,
   "id": "47126351",
   "metadata": {},
   "outputs": [],
   "source": [
    "import pandas as pd\n",
    "import numpy as np\n",
    "import json\n",
    "from loguru import logger"
   ]
  },
  {
   "cell_type": "code",
   "execution_count": 2,
   "id": "9a6a523f",
   "metadata": {},
   "outputs": [],
   "source": [
    "base_9306=r\"C:\\Users\\jetin\\Python_Códigos\\API2_fluxo_logistico\\Sprint 3\\base_9306_URF.csv\""
   ]
  },
  {
   "cell_type": "code",
   "execution_count": 3,
   "id": "7831fb18",
   "metadata": {},
   "outputs": [],
   "source": [
    "dict_type={'CO_ANO': str,\n",
    "           'CO_MES': str,\n",
    "           'CO_SH4': str,\n",
    "           'CO_NCM': str,\n",
    "           'SG_UF_NCM': str,\n",
    "           'NO_URF2': str,\n",
    "           'VL_FOB': float,\n",
    "           'NO_VIA': str,\n",
    "           'NO_PAIS': str,\n",
    "           'KG_LIQUIDO': float,\n",
    "           'CADEIA PRODUTIVA': str }"
   ]
  },
  {
   "cell_type": "code",
   "execution_count": 5,
   "id": "cff2b90f",
   "metadata": {},
   "outputs": [],
   "source": [
    "df_9306=pd.read_csv(base_9306, sep=\";\", dtype=dict_type)"
   ]
  },
  {
   "cell_type": "code",
   "execution_count": 16,
   "id": "426d87a4",
   "metadata": {},
   "outputs": [
    {
     "data": {
      "text/html": [
       "<div>\n",
       "<style scoped>\n",
       "    .dataframe tbody tr th:only-of-type {\n",
       "        vertical-align: middle;\n",
       "    }\n",
       "\n",
       "    .dataframe tbody tr th {\n",
       "        vertical-align: top;\n",
       "    }\n",
       "\n",
       "    .dataframe thead th {\n",
       "        text-align: right;\n",
       "    }\n",
       "</style>\n",
       "<table border=\"1\" class=\"dataframe\">\n",
       "  <thead>\n",
       "    <tr style=\"text-align: right;\">\n",
       "      <th></th>\n",
       "      <th>CO_ANO</th>\n",
       "      <th>CO_MES</th>\n",
       "      <th>CO_SH4</th>\n",
       "      <th>NO_SH4_POR</th>\n",
       "      <th>CO_NCM</th>\n",
       "      <th>NO_NCM_POR</th>\n",
       "      <th>NO_ISIC_SECAO</th>\n",
       "      <th>SG_UF_NCM</th>\n",
       "      <th>NO_URF2</th>\n",
       "      <th>LAT</th>\n",
       "      <th>LONG</th>\n",
       "      <th>NO_ISIC_CLASSE</th>\n",
       "      <th>VL_FOB</th>\n",
       "      <th>NO_VIA</th>\n",
       "      <th>TIPO</th>\n",
       "      <th>NO_PAIS</th>\n",
       "      <th>KG_LIQUIDO</th>\n",
       "      <th>SG_UNID</th>\n",
       "      <th>CADEIA PRODUTIVA</th>\n",
       "    </tr>\n",
       "  </thead>\n",
       "  <tbody>\n",
       "    <tr>\n",
       "      <th>0</th>\n",
       "      <td>2023</td>\n",
       "      <td>6</td>\n",
       "      <td>9306</td>\n",
       "      <td>Bombas; granadas; torpedos; minas; mísseis; ca...</td>\n",
       "      <td>93062900</td>\n",
       "      <td>Chumbos para carabinas de ar comprimido, parte...</td>\n",
       "      <td>Indústria de Transformação</td>\n",
       "      <td>SP</td>\n",
       "      <td>PORTO DE SANTOS</td>\n",
       "      <td>-239660408</td>\n",
       "      <td>-463019437</td>\n",
       "      <td>Fabricação de armas e munições</td>\n",
       "      <td>24987.0</td>\n",
       "      <td>MARITIMA</td>\n",
       "      <td>EXPORTAÇÃO</td>\n",
       "      <td>Taiwan (Formosa)</td>\n",
       "      <td>1485.0</td>\n",
       "      <td>KGL</td>\n",
       "      <td>Bélica</td>\n",
       "    </tr>\n",
       "    <tr>\n",
       "      <th>1</th>\n",
       "      <td>2023</td>\n",
       "      <td>6</td>\n",
       "      <td>9306</td>\n",
       "      <td>Bombas; granadas; torpedos; minas; mísseis; ca...</td>\n",
       "      <td>93062900</td>\n",
       "      <td>Chumbos para carabinas de ar comprimido, parte...</td>\n",
       "      <td>Indústria de Transformação</td>\n",
       "      <td>SP</td>\n",
       "      <td>PORTO DE SANTOS</td>\n",
       "      <td>-239660408</td>\n",
       "      <td>-463019437</td>\n",
       "      <td>Fabricação de armas e munições</td>\n",
       "      <td>6421.0</td>\n",
       "      <td>MARITIMA</td>\n",
       "      <td>EXPORTAÇÃO</td>\n",
       "      <td>Alemanha</td>\n",
       "      <td>273.0</td>\n",
       "      <td>KGL</td>\n",
       "      <td>Bélica</td>\n",
       "    </tr>\n",
       "  </tbody>\n",
       "</table>\n",
       "</div>"
      ],
      "text/plain": [
       "  CO_ANO CO_MES CO_SH4                                         NO_SH4_POR  \\\n",
       "0   2023      6   9306  Bombas; granadas; torpedos; minas; mísseis; ca...   \n",
       "1   2023      6   9306  Bombas; granadas; torpedos; minas; mísseis; ca...   \n",
       "\n",
       "     CO_NCM                                         NO_NCM_POR  \\\n",
       "0  93062900  Chumbos para carabinas de ar comprimido, parte...   \n",
       "1  93062900  Chumbos para carabinas de ar comprimido, parte...   \n",
       "\n",
       "                NO_ISIC_SECAO SG_UF_NCM          NO_URF2         LAT  \\\n",
       "0  Indústria de Transformação        SP  PORTO DE SANTOS  -239660408   \n",
       "1  Indústria de Transformação        SP  PORTO DE SANTOS  -239660408   \n",
       "\n",
       "         LONG                  NO_ISIC_CLASSE   VL_FOB    NO_VIA        TIPO  \\\n",
       "0  -463019437  Fabricação de armas e munições  24987.0  MARITIMA  EXPORTAÇÃO   \n",
       "1  -463019437  Fabricação de armas e munições   6421.0  MARITIMA  EXPORTAÇÃO   \n",
       "\n",
       "            NO_PAIS  KG_LIQUIDO SG_UNID CADEIA PRODUTIVA  \n",
       "0  Taiwan (Formosa)      1485.0   KGL             Bélica  \n",
       "1          Alemanha       273.0   KGL             Bélica  "
      ]
     },
     "execution_count": 16,
     "metadata": {},
     "output_type": "execute_result"
    }
   ],
   "source": [
    "df_9306.head(2)"
   ]
  },
  {
   "cell_type": "code",
   "execution_count": 61,
   "id": "edde439e",
   "metadata": {},
   "outputs": [
    {
     "data": {
      "text/plain": [
       "RODOVIARIA        66\n",
       "MARITIMA          41\n",
       "AEREA             16\n",
       "MEIOS PROPRIOS     4\n",
       "Name: NO_VIA, dtype: int64"
      ]
     },
     "execution_count": 61,
     "metadata": {},
     "output_type": "execute_result"
    }
   ],
   "source": [
    "df_9306.loc[df_9306['NO_PAIS']=='Uruguai']['NO_VIA'].value_counts()"
   ]
  },
  {
   "cell_type": "code",
   "execution_count": 19,
   "id": "82b9a432",
   "metadata": {},
   "outputs": [],
   "source": [
    "cols=['CO_ANO',\n",
    "      'CO_MES',\n",
    "      'CO_SH4',\n",
    "      'NO_PAIS',\n",
    "      'KG_LIQUIDO']\n",
    "\n",
    "df_9306_sel=df_9306[cols]"
   ]
  },
  {
   "cell_type": "code",
   "execution_count": 20,
   "id": "95e7ee54",
   "metadata": {},
   "outputs": [
    {
     "data": {
      "text/html": [
       "<div>\n",
       "<style scoped>\n",
       "    .dataframe tbody tr th:only-of-type {\n",
       "        vertical-align: middle;\n",
       "    }\n",
       "\n",
       "    .dataframe tbody tr th {\n",
       "        vertical-align: top;\n",
       "    }\n",
       "\n",
       "    .dataframe thead th {\n",
       "        text-align: right;\n",
       "    }\n",
       "</style>\n",
       "<table border=\"1\" class=\"dataframe\">\n",
       "  <thead>\n",
       "    <tr style=\"text-align: right;\">\n",
       "      <th></th>\n",
       "      <th>CO_ANO</th>\n",
       "      <th>CO_MES</th>\n",
       "      <th>CO_SH4</th>\n",
       "      <th>NO_PAIS</th>\n",
       "      <th>KG_LIQUIDO</th>\n",
       "    </tr>\n",
       "  </thead>\n",
       "  <tbody>\n",
       "    <tr>\n",
       "      <th>0</th>\n",
       "      <td>2023</td>\n",
       "      <td>6</td>\n",
       "      <td>9306</td>\n",
       "      <td>Taiwan (Formosa)</td>\n",
       "      <td>1485.0</td>\n",
       "    </tr>\n",
       "    <tr>\n",
       "      <th>1</th>\n",
       "      <td>2023</td>\n",
       "      <td>6</td>\n",
       "      <td>9306</td>\n",
       "      <td>Alemanha</td>\n",
       "      <td>273.0</td>\n",
       "    </tr>\n",
       "  </tbody>\n",
       "</table>\n",
       "</div>"
      ],
      "text/plain": [
       "  CO_ANO CO_MES CO_SH4           NO_PAIS  KG_LIQUIDO\n",
       "0   2023      6   9306  Taiwan (Formosa)      1485.0\n",
       "1   2023      6   9306          Alemanha       273.0"
      ]
     },
     "execution_count": 20,
     "metadata": {},
     "output_type": "execute_result"
    }
   ],
   "source": [
    "df_9306_sel.head(2)"
   ]
  },
  {
   "cell_type": "code",
   "execution_count": 21,
   "id": "683a785f",
   "metadata": {},
   "outputs": [
    {
     "name": "stdout",
     "output_type": "stream",
     "text": [
      "<class 'pandas.core.frame.DataFrame'>\n",
      "RangeIndex: 4721 entries, 0 to 4720\n",
      "Data columns (total 5 columns):\n",
      " #   Column      Non-Null Count  Dtype  \n",
      "---  ------      --------------  -----  \n",
      " 0   CO_ANO      4721 non-null   object \n",
      " 1   CO_MES      4721 non-null   object \n",
      " 2   CO_SH4      4721 non-null   object \n",
      " 3   NO_PAIS     4721 non-null   object \n",
      " 4   KG_LIQUIDO  4721 non-null   float64\n",
      "dtypes: float64(1), object(4)\n",
      "memory usage: 184.5+ KB\n"
     ]
    }
   ],
   "source": [
    "df_9306_sel.info()"
   ]
  },
  {
   "cell_type": "markdown",
   "id": "91c7d0da",
   "metadata": {},
   "source": [
    "#### Incluindo data, key e separando a base para série temporal"
   ]
  },
  {
   "cell_type": "code",
   "execution_count": 22,
   "id": "a7ff1c21",
   "metadata": {},
   "outputs": [
    {
     "name": "stderr",
     "output_type": "stream",
     "text": [
      "C:\\Users\\jetin\\AppData\\Local\\Temp\\ipykernel_10060\\3527740588.py:1: SettingWithCopyWarning: \n",
      "A value is trying to be set on a copy of a slice from a DataFrame.\n",
      "Try using .loc[row_indexer,col_indexer] = value instead\n",
      "\n",
      "See the caveats in the documentation: https://pandas.pydata.org/pandas-docs/stable/user_guide/indexing.html#returning-a-view-versus-a-copy\n",
      "  df_9306_sel['DATA_ANO_MES']= df_9306_sel['CO_ANO'] + '-' + df_9306_sel['CO_MES']\n"
     ]
    }
   ],
   "source": [
    "df_9306_sel['DATA_ANO_MES']= df_9306_sel['CO_ANO'] + '-' + df_9306_sel['CO_MES']"
   ]
  },
  {
   "cell_type": "code",
   "execution_count": 23,
   "id": "cfdb38d4",
   "metadata": {},
   "outputs": [
    {
     "name": "stderr",
     "output_type": "stream",
     "text": [
      "C:\\Users\\jetin\\AppData\\Local\\Temp\\ipykernel_10060\\2175787346.py:1: SettingWithCopyWarning: \n",
      "A value is trying to be set on a copy of a slice from a DataFrame.\n",
      "Try using .loc[row_indexer,col_indexer] = value instead\n",
      "\n",
      "See the caveats in the documentation: https://pandas.pydata.org/pandas-docs/stable/user_guide/indexing.html#returning-a-view-versus-a-copy\n",
      "  df_9306_sel['DATA']=pd.to_datetime(df_9306_sel['DATA_ANO_MES'], format= '%Y-%m')\n"
     ]
    }
   ],
   "source": [
    "df_9306_sel['DATA']=pd.to_datetime(df_9306_sel['DATA_ANO_MES'], format= '%Y-%m')"
   ]
  },
  {
   "cell_type": "code",
   "execution_count": 25,
   "id": "3af2b237",
   "metadata": {},
   "outputs": [
    {
     "name": "stderr",
     "output_type": "stream",
     "text": [
      "C:\\Users\\jetin\\AppData\\Local\\Temp\\ipykernel_10060\\3323936468.py:1: SettingWithCopyWarning: \n",
      "A value is trying to be set on a copy of a slice from a DataFrame.\n",
      "Try using .loc[row_indexer,col_indexer] = value instead\n",
      "\n",
      "See the caveats in the documentation: https://pandas.pydata.org/pandas-docs/stable/user_guide/indexing.html#returning-a-view-versus-a-copy\n",
      "  df_9306_sel['SKU_DESTINO']= df_9306_sel['CO_SH4'] + '-' + df_9306_sel['NO_PAIS']\n"
     ]
    }
   ],
   "source": [
    "df_9306_sel['SKU_DESTINO']= df_9306_sel['CO_SH4'] + '-' + df_9306_sel['NO_PAIS']"
   ]
  },
  {
   "cell_type": "code",
   "execution_count": 90,
   "id": "0dd7bce8",
   "metadata": {},
   "outputs": [],
   "source": [
    "chave_exp=['CO_ANO', 'CO_MES','CO_SH4','NO_PAIS', 'DATA', 'SKU_DESTINO']\n",
    "var_int_exp=['KG_LIQUIDO']\n",
    "\n",
    "df_9306_group = df_9306_sel.groupby(chave_exp)[var_int_exp].sum().reset_index()"
   ]
  },
  {
   "cell_type": "code",
   "execution_count": 91,
   "id": "70076a63",
   "metadata": {},
   "outputs": [
    {
     "data": {
      "text/html": [
       "<div>\n",
       "<style scoped>\n",
       "    .dataframe tbody tr th:only-of-type {\n",
       "        vertical-align: middle;\n",
       "    }\n",
       "\n",
       "    .dataframe tbody tr th {\n",
       "        vertical-align: top;\n",
       "    }\n",
       "\n",
       "    .dataframe thead th {\n",
       "        text-align: right;\n",
       "    }\n",
       "</style>\n",
       "<table border=\"1\" class=\"dataframe\">\n",
       "  <thead>\n",
       "    <tr style=\"text-align: right;\">\n",
       "      <th></th>\n",
       "      <th>CO_ANO</th>\n",
       "      <th>CO_MES</th>\n",
       "      <th>CO_SH4</th>\n",
       "      <th>NO_PAIS</th>\n",
       "      <th>DATA</th>\n",
       "      <th>SKU_DESTINO</th>\n",
       "      <th>KG_LIQUIDO</th>\n",
       "    </tr>\n",
       "  </thead>\n",
       "  <tbody>\n",
       "    <tr>\n",
       "      <th>0</th>\n",
       "      <td>1997</td>\n",
       "      <td>1</td>\n",
       "      <td>9306</td>\n",
       "      <td>Colômbia</td>\n",
       "      <td>1997-01-01</td>\n",
       "      <td>9306-Colômbia</td>\n",
       "      <td>3583.0</td>\n",
       "    </tr>\n",
       "    <tr>\n",
       "      <th>1</th>\n",
       "      <td>1997</td>\n",
       "      <td>1</td>\n",
       "      <td>9306</td>\n",
       "      <td>Guiana</td>\n",
       "      <td>1997-01-01</td>\n",
       "      <td>9306-Guiana</td>\n",
       "      <td>1133.0</td>\n",
       "    </tr>\n",
       "    <tr>\n",
       "      <th>2</th>\n",
       "      <td>1997</td>\n",
       "      <td>1</td>\n",
       "      <td>9306</td>\n",
       "      <td>Paraguai</td>\n",
       "      <td>1997-01-01</td>\n",
       "      <td>9306-Paraguai</td>\n",
       "      <td>33.0</td>\n",
       "    </tr>\n",
       "    <tr>\n",
       "      <th>3</th>\n",
       "      <td>1997</td>\n",
       "      <td>1</td>\n",
       "      <td>9306</td>\n",
       "      <td>Países Baixos (Holanda)</td>\n",
       "      <td>1997-01-01</td>\n",
       "      <td>9306-Países Baixos (Holanda)</td>\n",
       "      <td>22.0</td>\n",
       "    </tr>\n",
       "    <tr>\n",
       "      <th>4</th>\n",
       "      <td>1997</td>\n",
       "      <td>10</td>\n",
       "      <td>9306</td>\n",
       "      <td>Alemanha</td>\n",
       "      <td>1997-10-01</td>\n",
       "      <td>9306-Alemanha</td>\n",
       "      <td>24.0</td>\n",
       "    </tr>\n",
       "    <tr>\n",
       "      <th>...</th>\n",
       "      <td>...</td>\n",
       "      <td>...</td>\n",
       "      <td>...</td>\n",
       "      <td>...</td>\n",
       "      <td>...</td>\n",
       "      <td>...</td>\n",
       "      <td>...</td>\n",
       "    </tr>\n",
       "    <tr>\n",
       "      <th>3997</th>\n",
       "      <td>2023</td>\n",
       "      <td>6</td>\n",
       "      <td>9306</td>\n",
       "      <td>Lituânia</td>\n",
       "      <td>2023-06-01</td>\n",
       "      <td>9306-Lituânia</td>\n",
       "      <td>18440.0</td>\n",
       "    </tr>\n",
       "    <tr>\n",
       "      <th>3998</th>\n",
       "      <td>2023</td>\n",
       "      <td>6</td>\n",
       "      <td>9306</td>\n",
       "      <td>Panamá</td>\n",
       "      <td>2023-06-01</td>\n",
       "      <td>9306-Panamá</td>\n",
       "      <td>9104.0</td>\n",
       "    </tr>\n",
       "    <tr>\n",
       "      <th>3999</th>\n",
       "      <td>2023</td>\n",
       "      <td>6</td>\n",
       "      <td>9306</td>\n",
       "      <td>Reino Unido</td>\n",
       "      <td>2023-06-01</td>\n",
       "      <td>9306-Reino Unido</td>\n",
       "      <td>19783.0</td>\n",
       "    </tr>\n",
       "    <tr>\n",
       "      <th>4000</th>\n",
       "      <td>2023</td>\n",
       "      <td>6</td>\n",
       "      <td>9306</td>\n",
       "      <td>Suíça</td>\n",
       "      <td>2023-06-01</td>\n",
       "      <td>9306-Suíça</td>\n",
       "      <td>16640.0</td>\n",
       "    </tr>\n",
       "    <tr>\n",
       "      <th>4001</th>\n",
       "      <td>2023</td>\n",
       "      <td>6</td>\n",
       "      <td>9306</td>\n",
       "      <td>Taiwan (Formosa)</td>\n",
       "      <td>2023-06-01</td>\n",
       "      <td>9306-Taiwan (Formosa)</td>\n",
       "      <td>1485.0</td>\n",
       "    </tr>\n",
       "  </tbody>\n",
       "</table>\n",
       "<p>4002 rows × 7 columns</p>\n",
       "</div>"
      ],
      "text/plain": [
       "     CO_ANO CO_MES CO_SH4                  NO_PAIS       DATA  \\\n",
       "0      1997      1   9306                 Colômbia 1997-01-01   \n",
       "1      1997      1   9306                   Guiana 1997-01-01   \n",
       "2      1997      1   9306                 Paraguai 1997-01-01   \n",
       "3      1997      1   9306  Países Baixos (Holanda) 1997-01-01   \n",
       "4      1997     10   9306                 Alemanha 1997-10-01   \n",
       "...     ...    ...    ...                      ...        ...   \n",
       "3997   2023      6   9306                 Lituânia 2023-06-01   \n",
       "3998   2023      6   9306                   Panamá 2023-06-01   \n",
       "3999   2023      6   9306              Reino Unido 2023-06-01   \n",
       "4000   2023      6   9306                    Suíça 2023-06-01   \n",
       "4001   2023      6   9306         Taiwan (Formosa) 2023-06-01   \n",
       "\n",
       "                       SKU_DESTINO  KG_LIQUIDO  \n",
       "0                    9306-Colômbia      3583.0  \n",
       "1                      9306-Guiana      1133.0  \n",
       "2                    9306-Paraguai        33.0  \n",
       "3     9306-Países Baixos (Holanda)        22.0  \n",
       "4                    9306-Alemanha        24.0  \n",
       "...                            ...         ...  \n",
       "3997                 9306-Lituânia     18440.0  \n",
       "3998                   9306-Panamá      9104.0  \n",
       "3999              9306-Reino Unido     19783.0  \n",
       "4000                    9306-Suíça     16640.0  \n",
       "4001         9306-Taiwan (Formosa)      1485.0  \n",
       "\n",
       "[4002 rows x 7 columns]"
      ]
     },
     "execution_count": 91,
     "metadata": {},
     "output_type": "execute_result"
    }
   ],
   "source": [
    "df_9306_group"
   ]
  },
  {
   "cell_type": "code",
   "execution_count": 92,
   "id": "b03b30a0",
   "metadata": {},
   "outputs": [],
   "source": [
    "df_9306_URUG = df_9306_group.loc[df_9306_group['NO_PAIS']=='Uruguai']"
   ]
  },
  {
   "cell_type": "code",
   "execution_count": 95,
   "id": "8870a799",
   "metadata": {},
   "outputs": [
    {
     "data": {
      "text/html": [
       "<div>\n",
       "<style scoped>\n",
       "    .dataframe tbody tr th:only-of-type {\n",
       "        vertical-align: middle;\n",
       "    }\n",
       "\n",
       "    .dataframe tbody tr th {\n",
       "        vertical-align: top;\n",
       "    }\n",
       "\n",
       "    .dataframe thead th {\n",
       "        text-align: right;\n",
       "    }\n",
       "</style>\n",
       "<table border=\"1\" class=\"dataframe\">\n",
       "  <thead>\n",
       "    <tr style=\"text-align: right;\">\n",
       "      <th></th>\n",
       "      <th>CO_ANO</th>\n",
       "      <th>CO_MES</th>\n",
       "      <th>CO_SH4</th>\n",
       "      <th>NO_PAIS</th>\n",
       "      <th>DATA</th>\n",
       "      <th>SKU_DESTINO</th>\n",
       "      <th>KG_LIQUIDO</th>\n",
       "    </tr>\n",
       "  </thead>\n",
       "  <tbody>\n",
       "    <tr>\n",
       "      <th>29</th>\n",
       "      <td>1997</td>\n",
       "      <td>11</td>\n",
       "      <td>9306</td>\n",
       "      <td>Uruguai</td>\n",
       "      <td>1997-11-01</td>\n",
       "      <td>9306-Uruguai</td>\n",
       "      <td>1420.0</td>\n",
       "    </tr>\n",
       "    <tr>\n",
       "      <th>43</th>\n",
       "      <td>1997</td>\n",
       "      <td>12</td>\n",
       "      <td>9306</td>\n",
       "      <td>Uruguai</td>\n",
       "      <td>1997-12-01</td>\n",
       "      <td>9306-Uruguai</td>\n",
       "      <td>10248.0</td>\n",
       "    </tr>\n",
       "  </tbody>\n",
       "</table>\n",
       "</div>"
      ],
      "text/plain": [
       "   CO_ANO CO_MES CO_SH4  NO_PAIS       DATA   SKU_DESTINO  KG_LIQUIDO\n",
       "29   1997     11   9306  Uruguai 1997-11-01  9306-Uruguai      1420.0\n",
       "43   1997     12   9306  Uruguai 1997-12-01  9306-Uruguai     10248.0"
      ]
     },
     "execution_count": 95,
     "metadata": {},
     "output_type": "execute_result"
    }
   ],
   "source": [
    "df_9306_URUG.head(2)"
   ]
  },
  {
   "cell_type": "code",
   "execution_count": 94,
   "id": "a1dc0b45",
   "metadata": {},
   "outputs": [
    {
     "name": "stdout",
     "output_type": "stream",
     "text": [
      "<class 'pandas.core.frame.DataFrame'>\n",
      "Int64Index: 109 entries, 29 to 3960\n",
      "Data columns (total 7 columns):\n",
      " #   Column       Non-Null Count  Dtype         \n",
      "---  ------       --------------  -----         \n",
      " 0   CO_ANO       109 non-null    object        \n",
      " 1   CO_MES       109 non-null    object        \n",
      " 2   CO_SH4       109 non-null    object        \n",
      " 3   NO_PAIS      109 non-null    object        \n",
      " 4   DATA         109 non-null    datetime64[ns]\n",
      " 5   SKU_DESTINO  109 non-null    object        \n",
      " 6   KG_LIQUIDO   109 non-null    float64       \n",
      "dtypes: datetime64[ns](1), float64(1), object(5)\n",
      "memory usage: 6.8+ KB\n"
     ]
    }
   ],
   "source": [
    "df_9306_URUG.info()"
   ]
  },
  {
   "cell_type": "markdown",
   "id": "6f22526e",
   "metadata": {},
   "source": [
    "#### Preenche com zero os valores ausentes de data"
   ]
  },
  {
   "cell_type": "code",
   "execution_count": 96,
   "id": "fe18dc48",
   "metadata": {},
   "outputs": [],
   "source": [
    "def preenche_nans(df: pd.DataFrame, metodo: str):\n",
    "    \"\"\"\n",
    "    Preenche os valores ausentes em um DataFrame.\n",
    "\n",
    "    Parameters\n",
    "    ----------\n",
    "    df : pd.DataFrame\n",
    "        O DataFrame de entrada.\n",
    "    metodo : str\n",
    "        O método a ser usado para preencher os valores ausentes. Pode ser 'ffill', 'bfill' ou 'fillna_zeros'.\n",
    "\n",
    "    Returns\n",
    "    -------\n",
    "    pd.DataFrame\n",
    "        O DataFrame com os valores ausentes preenchidos.\n",
    "\n",
    "    Raises\n",
    "    ------\n",
    "    ValueError\n",
    "        Se o método fornecido não for suportado.\n",
    "\n",
    "    Example\n",
    "    -------\n",
    "    >>> df = preenche_nans(df, 'fillna_zeros')\n",
    "    \"\"\"\n",
    "    metodos = {\n",
    "        'ffill': df.ffill,\n",
    "        'bfill': df.bfill,\n",
    "        'fillna_zeros': df.fillna\n",
    "    }\n",
    "    \n",
    "    if metodo not in metodos:\n",
    "        raise ValueError(\"Método não suportado: escolha entre 'ffill', 'bfill' ou 'fillna_zeros'\")\n",
    "    if metodo == 'fillna_zeros':\n",
    "        return metodos[metodo](0)\n",
    "    \n",
    "    return metodos[metodo]()\n",
    "\n",
    "def agrupa_silver(silver_consolidada: pd.DataFrame, params: dict):\n",
    "    \"\"\"\n",
    "    Realiza groupby na silver consolidada e agrega os dados.\n",
    "\n",
    "    Parameters\n",
    "    ----------\n",
    "    silver_consolidada : pd.DataFrame\n",
    "        O DataFrame da silver consolidada.\n",
    "    params : dict\n",
    "        Um dicionário com parâmetros do cliente.\n",
    "\n",
    "    Returns\n",
    "    -------\n",
    "    pd.DataFrame\n",
    "        A silver consolidada após a agregação.\n",
    "\n",
    "    Example\n",
    "    -------\n",
    "    >>> params = {\n",
    "    ...     'colunas_gb': ['coluna1', 'coluna2'],\n",
    "    ...     'join_colunas_var': '-',\n",
    "    ...     'coluna_data': 'data',\n",
    "    ...     'frequencia_agrupamento': 'M',\n",
    "    ...     'agg_dict': {'coluna3': 'mean', 'coluna4': 'sum'}\n",
    "    ... }\n",
    "    >>> silver_agrupada = agrupa_silver(silver_consolidada, params)\n",
    "    \"\"\"\n",
    "    logger.info(\"Agrupando dados da silver...\")\n",
    "    nome_colunas = '-'.join(params['colunas_gb'])\n",
    "    silver_consolidada[nome_colunas] = silver_consolidada[params['colunas_gb']].apply(lambda x: params['join_colunas_var'].join(x), axis=1)\n",
    "    \n",
    "    gb_args = [nome_colunas] + [pd.Grouper(key=params['coluna_data'], \n",
    "                                           freq=params['frequencia_agrupamento'])]\n",
    "\n",
    "    silver_agrupada = silver_consolidada.groupby(gb_args).agg(params['agg_dict']).reset_index()\n",
    "\n",
    "    return silver_agrupada\n",
    "\n",
    "def insere_datas_ausentes(df: pd.DataFrame, params: dict):\n",
    "    \"\"\"\n",
    "    Insere linhas de datas ausentes em um DataFrame.\n",
    "\n",
    "    Parameters\n",
    "    ----------\n",
    "    df : pd.DataFrame\n",
    "        O DataFrame de entrada.\n",
    "    params : dict\n",
    "        Um dicionário com parâmetros do cliente.\n",
    "\n",
    "    Returns\n",
    "    -------\n",
    "    pd.DataFrame\n",
    "        O DataFrame com as datas ausentes preenchidas.\n",
    "\n",
    "    Example\n",
    "    -------\n",
    "    >>> params = {\n",
    "    ...     'colunas_gb': ['coluna1', 'coluna2'],\n",
    "    ...     'coluna_data': 'data',\n",
    "    ...     'frequencia_agrupamento': 'D'\n",
    "    ... }\n",
    "    >>> df_com_datas = insere_datas_ausentes(df, params)\n",
    "    \"\"\"\n",
    "    logger.info('Inserindo datas faltantes...')\n",
    "    col = '-'.join(params['colunas_gb'])\n",
    "    dfs = []\n",
    "    data_max = df[params['coluna_data']].max()\n",
    "    for item in df[col].unique():\n",
    "        temp = df[df[col] == item].copy()\n",
    "        temp.set_index(params['coluna_data'], inplace=True)\n",
    "        complete_date_range = pd.date_range(start=temp.index.min(), \n",
    "                                            end=data_max, \n",
    "                                            freq=params['frequencia_agrupamento'])\n",
    "\n",
    "        temp = temp.reindex(complete_date_range)\n",
    "        temp[col] = temp[col].ffill()\n",
    "        temp = preenche_nans(temp, metodo='fillna_zeros')\n",
    "        dfs.append(temp)\n",
    "\n",
    "    df_com_datas = pd.concat(dfs).reset_index().rename(columns={'index': params['coluna_data']})\n",
    "    return df_com_datas\n",
    "\n",
    "def gera_serie_temporal(df: pd.DataFrame, params: dict):\n",
    "    \"\"\"\n",
    "    Função principal para gerar uma série temporal.\n",
    "\n",
    "    Parameters\n",
    "    ----------\n",
    "    df : pd.DataFrame\n",
    "        O DataFrame de entrada.\n",
    "    params : dict\n",
    "        Um dicionário com parâmetros do cliente.\n",
    "\n",
    "    Returns\n",
    "    -------\n",
    "    pd.DataFrame\n",
    "        A série temporal gerada.\n",
    "\n",
    "    Example\n",
    "    -------\n",
    "    >>> params = {\n",
    "    ...     'colunas_gb': ['coluna1', 'coluna2'],\n",
    "    ...     'join_colunas_var': '-',\n",
    "    ...     'coluna_data': 'data',\n",
    "    ...     'frequencia_agrupamento': 'D',\n",
    "    ...     'agg_dict': {'coluna3': 'mean', 'coluna4': 'sum'}\n",
    "    ... }\n",
    "    >>> st = gera_serie_temporal(df, params)\n",
    "    \"\"\"\n",
    "    st = agrupa_silver(df, params)\n",
    "    st = insere_datas_ausentes(st, params)\n",
    "    logger.success(\"Série temporal gerada\")\n",
    "\n",
    "    return st\n"
   ]
  },
  {
   "cell_type": "code",
   "execution_count": 97,
   "id": "21a9a078",
   "metadata": {},
   "outputs": [],
   "source": [
    "params = {\n",
    "'colunas_gb': ['SKU_DESTINO'],\n",
    "'join_colunas_var': '-',\n",
    "'coluna_data': 'DATA',\n",
    "'frequencia_agrupamento': 'MS',\n",
    "'agg_dict': {'KG_LIQUIDO': 'sum'}\n",
    " }"
   ]
  },
  {
   "cell_type": "code",
   "execution_count": 98,
   "id": "837670f5",
   "metadata": {},
   "outputs": [
    {
     "name": "stderr",
     "output_type": "stream",
     "text": [
      "\u001b[32m2023-11-25 13:39:41.032\u001b[0m | \u001b[1mINFO    \u001b[0m | \u001b[36m__main__\u001b[0m:\u001b[36magrupa_silver\u001b[0m:\u001b[36m66\u001b[0m - \u001b[1mAgrupando dados da silver...\u001b[0m\n",
      "C:\\Users\\jetin\\AppData\\Local\\Temp\\ipykernel_10060\\569256599.py:68: SettingWithCopyWarning: \n",
      "A value is trying to be set on a copy of a slice from a DataFrame.\n",
      "Try using .loc[row_indexer,col_indexer] = value instead\n",
      "\n",
      "See the caveats in the documentation: https://pandas.pydata.org/pandas-docs/stable/user_guide/indexing.html#returning-a-view-versus-a-copy\n",
      "  silver_consolidada[nome_colunas] = silver_consolidada[params['colunas_gb']].apply(lambda x: params['join_colunas_var'].join(x), axis=1)\n",
      "\u001b[32m2023-11-25 13:39:41.054\u001b[0m | \u001b[1mINFO    \u001b[0m | \u001b[36m__main__\u001b[0m:\u001b[36minsere_datas_ausentes\u001b[0m:\u001b[36m102\u001b[0m - \u001b[1mInserindo datas faltantes...\u001b[0m\n",
      "\u001b[32m2023-11-25 13:39:41.065\u001b[0m | \u001b[32m\u001b[1mSUCCESS \u001b[0m | \u001b[36m__main__\u001b[0m:\u001b[36mgera_serie_temporal\u001b[0m:\u001b[36m150\u001b[0m - \u001b[32m\u001b[1mSérie temporal gerada\u001b[0m\n"
     ]
    }
   ],
   "source": [
    "df_st_9306_URUG=gera_serie_temporal(df_9306_URUG, params)"
   ]
  },
  {
   "cell_type": "code",
   "execution_count": 99,
   "id": "12aeacdb",
   "metadata": {},
   "outputs": [
    {
     "data": {
      "text/html": [
       "<div>\n",
       "<style scoped>\n",
       "    .dataframe tbody tr th:only-of-type {\n",
       "        vertical-align: middle;\n",
       "    }\n",
       "\n",
       "    .dataframe tbody tr th {\n",
       "        vertical-align: top;\n",
       "    }\n",
       "\n",
       "    .dataframe thead th {\n",
       "        text-align: right;\n",
       "    }\n",
       "</style>\n",
       "<table border=\"1\" class=\"dataframe\">\n",
       "  <thead>\n",
       "    <tr style=\"text-align: right;\">\n",
       "      <th></th>\n",
       "      <th>DATA</th>\n",
       "      <th>SKU_DESTINO</th>\n",
       "      <th>KG_LIQUIDO</th>\n",
       "    </tr>\n",
       "  </thead>\n",
       "  <tbody>\n",
       "    <tr>\n",
       "      <th>0</th>\n",
       "      <td>1997-02-01</td>\n",
       "      <td>9306-Uruguai</td>\n",
       "      <td>7551.0</td>\n",
       "    </tr>\n",
       "    <tr>\n",
       "      <th>1</th>\n",
       "      <td>1997-03-01</td>\n",
       "      <td>9306-Uruguai</td>\n",
       "      <td>0.0</td>\n",
       "    </tr>\n",
       "    <tr>\n",
       "      <th>2</th>\n",
       "      <td>1997-04-01</td>\n",
       "      <td>9306-Uruguai</td>\n",
       "      <td>0.0</td>\n",
       "    </tr>\n",
       "    <tr>\n",
       "      <th>3</th>\n",
       "      <td>1997-05-01</td>\n",
       "      <td>9306-Uruguai</td>\n",
       "      <td>0.0</td>\n",
       "    </tr>\n",
       "    <tr>\n",
       "      <th>4</th>\n",
       "      <td>1997-06-01</td>\n",
       "      <td>9306-Uruguai</td>\n",
       "      <td>0.0</td>\n",
       "    </tr>\n",
       "  </tbody>\n",
       "</table>\n",
       "</div>"
      ],
      "text/plain": [
       "        DATA   SKU_DESTINO  KG_LIQUIDO\n",
       "0 1997-02-01  9306-Uruguai      7551.0\n",
       "1 1997-03-01  9306-Uruguai         0.0\n",
       "2 1997-04-01  9306-Uruguai         0.0\n",
       "3 1997-05-01  9306-Uruguai         0.0\n",
       "4 1997-06-01  9306-Uruguai         0.0"
      ]
     },
     "execution_count": 99,
     "metadata": {},
     "output_type": "execute_result"
    }
   ],
   "source": [
    "df_st_9306_URUG.head()"
   ]
  },
  {
   "cell_type": "markdown",
   "id": "07ebe1d0",
   "metadata": {},
   "source": [
    "#### Predição da serie temporal"
   ]
  },
  {
   "cell_type": "code",
   "execution_count": 100,
   "id": "1a19c0e7",
   "metadata": {},
   "outputs": [],
   "source": [
    "from statsmodels.tsa.statespace.sarimax import SARIMAX\n",
    "from pmdarima import auto_arima"
   ]
  },
  {
   "cell_type": "code",
   "execution_count": 101,
   "id": "84eb3aaf",
   "metadata": {},
   "outputs": [],
   "source": [
    "# Converta a coluna de datas para o tipo apropriado\n",
    "df_st_9306_URUG.set_index('DATA', inplace=True)"
   ]
  },
  {
   "cell_type": "code",
   "execution_count": 102,
   "id": "d23fdd1c",
   "metadata": {},
   "outputs": [],
   "source": [
    "df_9306_URUG = df_st_9306_URUG.drop(columns=['SKU_DESTINO'])"
   ]
  },
  {
   "cell_type": "code",
   "execution_count": 103,
   "id": "4c1e434e",
   "metadata": {},
   "outputs": [
    {
     "name": "stdout",
     "output_type": "stream",
     "text": [
      "Performing stepwise search to minimize aic\n",
      " ARIMA(1,0,1)(1,0,1)[12] intercept   : AIC=6390.165, Time=0.43 sec\n",
      " ARIMA(0,0,0)(0,0,0)[12] intercept   : AIC=6389.577, Time=0.03 sec\n",
      " ARIMA(1,0,0)(1,0,0)[12] intercept   : AIC=6386.448, Time=0.13 sec\n",
      " ARIMA(0,0,1)(0,0,1)[12] intercept   : AIC=6386.443, Time=0.13 sec\n",
      " ARIMA(0,0,0)(0,0,0)[12]             : AIC=6436.724, Time=0.03 sec\n",
      " ARIMA(0,0,1)(0,0,0)[12] intercept   : AIC=6388.024, Time=0.05 sec\n",
      " ARIMA(0,0,1)(1,0,1)[12] intercept   : AIC=6388.235, Time=0.23 sec\n",
      " ARIMA(0,0,1)(0,0,2)[12] intercept   : AIC=6388.405, Time=0.28 sec\n",
      " ARIMA(0,0,1)(1,0,0)[12] intercept   : AIC=6386.279, Time=0.12 sec\n",
      " ARIMA(0,0,1)(2,0,0)[12] intercept   : AIC=6388.279, Time=0.43 sec\n",
      " ARIMA(0,0,1)(2,0,1)[12] intercept   : AIC=6390.221, Time=0.44 sec\n",
      " ARIMA(0,0,0)(1,0,0)[12] intercept   : AIC=6388.551, Time=0.09 sec\n",
      " ARIMA(1,0,1)(1,0,0)[12] intercept   : AIC=6388.188, Time=0.29 sec\n",
      " ARIMA(0,0,2)(1,0,0)[12] intercept   : AIC=6388.297, Time=0.14 sec\n",
      " ARIMA(1,0,2)(1,0,0)[12] intercept   : AIC=6390.264, Time=0.30 sec\n",
      " ARIMA(0,0,1)(1,0,0)[12]             : AIC=6413.326, Time=0.08 sec\n",
      "\n",
      "Best model:  ARIMA(0,0,1)(1,0,0)[12] intercept\n",
      "Total fit time: 3.253 seconds\n"
     ]
    },
    {
     "name": "stderr",
     "output_type": "stream",
     "text": [
      "C:\\ProgramData\\anaconda3\\lib\\site-packages\\statsmodels\\tsa\\base\\tsa_model.py:471: ValueWarning: No frequency information was provided, so inferred frequency MS will be used.\n",
      "  self._init_dates(dates, freq)\n",
      "C:\\ProgramData\\anaconda3\\lib\\site-packages\\statsmodels\\tsa\\base\\tsa_model.py:471: ValueWarning: No frequency information was provided, so inferred frequency MS will be used.\n",
      "  self._init_dates(dates, freq)\n"
     ]
    }
   ],
   "source": [
    "# Treine o modelo AutoARIMA até a última data disponível\n",
    "modelo_autoarima = auto_arima(df_9306_URUG, start_p=1, start_q=1, max_p=3, max_q=3, m=12, seasonal=True, trace=True)\n",
    "modelo = SARIMAX(df_9306_URUG, order=modelo_autoarima.order, seasonal_order=modelo_autoarima.seasonal_order)\n",
    "resultado = modelo.fit(disp=False)"
   ]
  },
  {
   "cell_type": "code",
   "execution_count": 104,
   "id": "69027449",
   "metadata": {},
   "outputs": [],
   "source": [
    "# Faça previsões a partir da última data no conjunto de dados\n",
    "passos_para_prever = 24  # ou o número desejado de passos à frente\n",
    "previsoes = resultado.get_forecast(steps=passos_para_prever)\n",
    "previsao_intervalo = previsoes.conf_int()"
   ]
  },
  {
   "cell_type": "code",
   "execution_count": 105,
   "id": "5a1f69de",
   "metadata": {},
   "outputs": [],
   "source": [
    "# Crie um DataFrame com as datas futuras e as previsões\n",
    "datas_futuras = pd.date_range(start=df_9306_URUG.index[-1], periods=passos_para_prever+1, freq='M')[1:]\n",
    "df_PRED_URUG = pd.DataFrame(index=datas_futuras, columns=['KG_LIQUIDO_PRED', 'IF_KG_LIQUIDO_PRED', 'IS_KG_LIQUIDO_PRED'])\n",
    "df_PRED_URUG['KG_LIQUIDO_PRED'] = previsoes.predicted_mean.values\n",
    "df_PRED_URUG[['IF_KG_LIQUIDO_PRED', 'IS_KG_LIQUIDO_PRED']] = previsao_intervalo.values"
   ]
  },
  {
   "cell_type": "code",
   "execution_count": 106,
   "id": "674d82ef",
   "metadata": {},
   "outputs": [
    {
     "data": {
      "text/html": [
       "<div>\n",
       "<style scoped>\n",
       "    .dataframe tbody tr th:only-of-type {\n",
       "        vertical-align: middle;\n",
       "    }\n",
       "\n",
       "    .dataframe tbody tr th {\n",
       "        vertical-align: top;\n",
       "    }\n",
       "\n",
       "    .dataframe thead th {\n",
       "        text-align: right;\n",
       "    }\n",
       "</style>\n",
       "<table border=\"1\" class=\"dataframe\">\n",
       "  <thead>\n",
       "    <tr style=\"text-align: right;\">\n",
       "      <th></th>\n",
       "      <th>KG_LIQUIDO_PRED</th>\n",
       "      <th>IF_KG_LIQUIDO_PRED</th>\n",
       "      <th>IS_KG_LIQUIDO_PRED</th>\n",
       "    </tr>\n",
       "  </thead>\n",
       "  <tbody>\n",
       "    <tr>\n",
       "      <th>2023-03-31</th>\n",
       "      <td>1.113714e+03</td>\n",
       "      <td>-12496.957731</td>\n",
       "      <td>14724.385109</td>\n",
       "    </tr>\n",
       "    <tr>\n",
       "      <th>2023-04-30</th>\n",
       "      <td>-3.703421e-21</td>\n",
       "      <td>-13816.131419</td>\n",
       "      <td>13816.131419</td>\n",
       "    </tr>\n",
       "    <tr>\n",
       "      <th>2023-05-31</th>\n",
       "      <td>1.246439e+03</td>\n",
       "      <td>-12569.692817</td>\n",
       "      <td>15062.570021</td>\n",
       "    </tr>\n",
       "    <tr>\n",
       "      <th>2023-06-30</th>\n",
       "      <td>-1.273395e-39</td>\n",
       "      <td>-13816.131419</td>\n",
       "      <td>13816.131419</td>\n",
       "    </tr>\n",
       "    <tr>\n",
       "      <th>2023-07-31</th>\n",
       "      <td>3.603772e+02</td>\n",
       "      <td>-13455.754205</td>\n",
       "      <td>14176.508634</td>\n",
       "    </tr>\n",
       "  </tbody>\n",
       "</table>\n",
       "</div>"
      ],
      "text/plain": [
       "            KG_LIQUIDO_PRED  IF_KG_LIQUIDO_PRED  IS_KG_LIQUIDO_PRED\n",
       "2023-03-31     1.113714e+03       -12496.957731        14724.385109\n",
       "2023-04-30    -3.703421e-21       -13816.131419        13816.131419\n",
       "2023-05-31     1.246439e+03       -12569.692817        15062.570021\n",
       "2023-06-30    -1.273395e-39       -13816.131419        13816.131419\n",
       "2023-07-31     3.603772e+02       -13455.754205        14176.508634"
      ]
     },
     "execution_count": 106,
     "metadata": {},
     "output_type": "execute_result"
    }
   ],
   "source": [
    "# Exiba as previsões\n",
    "df_PRED_URUG.head()"
   ]
  },
  {
   "cell_type": "code",
   "execution_count": 107,
   "id": "8b5521b3",
   "metadata": {},
   "outputs": [],
   "source": [
    "df_9306_URUG_2020 = df_9306_URUG.loc['2020-01-01':]"
   ]
  },
  {
   "cell_type": "code",
   "execution_count": 108,
   "id": "ec2be1d9",
   "metadata": {},
   "outputs": [],
   "source": [
    "import matplotlib.pyplot as plt"
   ]
  },
  {
   "cell_type": "code",
   "execution_count": 109,
   "id": "64977776",
   "metadata": {},
   "outputs": [
    {
     "data": {
      "image/png": "[encoded data removed]",
      "text/plain": [
       "<Figure size 640x480 with 1 Axes>"
      ]
     },
     "metadata": {},
     "output_type": "display_data"
    }
   ],
   "source": [
    "plt.plot(df_9306_URUG)\n",
    "plt.plot(df_PRED_URUG['KG_LIQUIDO_PRED'])\n",
    "plt.show()"
   ]
  },
  {
   "cell_type": "code",
   "execution_count": 110,
   "id": "af074dd9",
   "metadata": {},
   "outputs": [
    {
     "data": {
      "image/png": "[encoded data removed]",
      "text/plain": [
       "<Figure size 640x480 with 1 Axes>"
      ]
     },
     "metadata": {},
     "output_type": "display_data"
    }
   ],
   "source": [
    "plt.plot(df_9306_URUG_2020)\n",
    "plt.plot(df_PRED_URUG['KG_LIQUIDO_PRED'])\n",
    "plt.show()"
   ]
  },
  {
   "cell_type": "code",
   "execution_count": null,
   "id": "1c9294e8",
   "metadata": {},
   "outputs": [],
   "source": [
    "|SH4|DESTINO|DATA FUTURO|QTDADE ESPERADA|"
   ]
  },
  {
   "cell_type": "code",
   "execution_count": 111,
   "id": "270615ea",
   "metadata": {},
   "outputs": [
    {
     "data": {
      "text/html": [
       "<div>\n",
       "<style scoped>\n",
       "    .dataframe tbody tr th:only-of-type {\n",
       "        vertical-align: middle;\n",
       "    }\n",
       "\n",
       "    .dataframe tbody tr th {\n",
       "        vertical-align: top;\n",
       "    }\n",
       "\n",
       "    .dataframe thead th {\n",
       "        text-align: right;\n",
       "    }\n",
       "</style>\n",
       "<table border=\"1\" class=\"dataframe\">\n",
       "  <thead>\n",
       "    <tr style=\"text-align: right;\">\n",
       "      <th></th>\n",
       "      <th>CO_ANO</th>\n",
       "      <th>CO_MES</th>\n",
       "      <th>CO_SH4</th>\n",
       "      <th>NO_SH4_POR</th>\n",
       "      <th>CO_NCM</th>\n",
       "      <th>NO_NCM_POR</th>\n",
       "      <th>NO_ISIC_SECAO</th>\n",
       "      <th>SG_UF_NCM</th>\n",
       "      <th>NO_URF2</th>\n",
       "      <th>LAT</th>\n",
       "      <th>LONG</th>\n",
       "      <th>NO_ISIC_CLASSE</th>\n",
       "      <th>VL_FOB</th>\n",
       "      <th>NO_VIA</th>\n",
       "      <th>TIPO</th>\n",
       "      <th>NO_PAIS</th>\n",
       "      <th>KG_LIQUIDO</th>\n",
       "      <th>SG_UNID</th>\n",
       "      <th>CADEIA PRODUTIVA</th>\n",
       "    </tr>\n",
       "  </thead>\n",
       "  <tbody>\n",
       "    <tr>\n",
       "      <th>0</th>\n",
       "      <td>2023</td>\n",
       "      <td>6</td>\n",
       "      <td>9306</td>\n",
       "      <td>Bombas; granadas; torpedos; minas; mísseis; ca...</td>\n",
       "      <td>93062900</td>\n",
       "      <td>Chumbos para carabinas de ar comprimido, parte...</td>\n",
       "      <td>Indústria de Transformação</td>\n",
       "      <td>SP</td>\n",
       "      <td>PORTO DE SANTOS</td>\n",
       "      <td>-239660408</td>\n",
       "      <td>-463019437</td>\n",
       "      <td>Fabricação de armas e munições</td>\n",
       "      <td>24987.0</td>\n",
       "      <td>MARITIMA</td>\n",
       "      <td>EXPORTAÇÃO</td>\n",
       "      <td>Taiwan (Formosa)</td>\n",
       "      <td>1485.0</td>\n",
       "      <td>KGL</td>\n",
       "      <td>Bélica</td>\n",
       "    </tr>\n",
       "    <tr>\n",
       "      <th>1</th>\n",
       "      <td>2023</td>\n",
       "      <td>6</td>\n",
       "      <td>9306</td>\n",
       "      <td>Bombas; granadas; torpedos; minas; mísseis; ca...</td>\n",
       "      <td>93062900</td>\n",
       "      <td>Chumbos para carabinas de ar comprimido, parte...</td>\n",
       "      <td>Indústria de Transformação</td>\n",
       "      <td>SP</td>\n",
       "      <td>PORTO DE SANTOS</td>\n",
       "      <td>-239660408</td>\n",
       "      <td>-463019437</td>\n",
       "      <td>Fabricação de armas e munições</td>\n",
       "      <td>6421.0</td>\n",
       "      <td>MARITIMA</td>\n",
       "      <td>EXPORTAÇÃO</td>\n",
       "      <td>Alemanha</td>\n",
       "      <td>273.0</td>\n",
       "      <td>KGL</td>\n",
       "      <td>Bélica</td>\n",
       "    </tr>\n",
       "  </tbody>\n",
       "</table>\n",
       "</div>"
      ],
      "text/plain": [
       "  CO_ANO CO_MES CO_SH4                                         NO_SH4_POR  \\\n",
       "0   2023      6   9306  Bombas; granadas; torpedos; minas; mísseis; ca...   \n",
       "1   2023      6   9306  Bombas; granadas; torpedos; minas; mísseis; ca...   \n",
       "\n",
       "     CO_NCM                                         NO_NCM_POR  \\\n",
       "0  93062900  Chumbos para carabinas de ar comprimido, parte...   \n",
       "1  93062900  Chumbos para carabinas de ar comprimido, parte...   \n",
       "\n",
       "                NO_ISIC_SECAO SG_UF_NCM          NO_URF2         LAT  \\\n",
       "0  Indústria de Transformação        SP  PORTO DE SANTOS  -239660408   \n",
       "1  Indústria de Transformação        SP  PORTO DE SANTOS  -239660408   \n",
       "\n",
       "         LONG                  NO_ISIC_CLASSE   VL_FOB    NO_VIA        TIPO  \\\n",
       "0  -463019437  Fabricação de armas e munições  24987.0  MARITIMA  EXPORTAÇÃO   \n",
       "1  -463019437  Fabricação de armas e munições   6421.0  MARITIMA  EXPORTAÇÃO   \n",
       "\n",
       "            NO_PAIS  KG_LIQUIDO SG_UNID CADEIA PRODUTIVA  \n",
       "0  Taiwan (Formosa)      1485.0   KGL             Bélica  \n",
       "1          Alemanha       273.0   KGL             Bélica  "
      ]
     },
     "execution_count": 111,
     "metadata": {},
     "output_type": "execute_result"
    }
   ],
   "source": [
    "df_9306.head(2)"
   ]
  },
  {
   "cell_type": "code",
   "execution_count": 131,
   "id": "d27eeb16",
   "metadata": {},
   "outputs": [],
   "source": [
    "chave_exp=['CO_MES','CO_SH4','NO_PAIS','NO_VIA']\n",
    "var_int_exp=['KG_LIQUIDO']\n",
    "\n",
    "df_9306_classif_group = df_9306.groupby(chave_exp)[var_int_exp].sum().reset_index()"
   ]
  },
  {
   "cell_type": "code",
   "execution_count": 112,
   "id": "d8af2fb6",
   "metadata": {},
   "outputs": [],
   "source": [
    "df_9306_classif = df_9306[['CO_MES','CO_SH4','NO_PAIS','NO_VIA','KG_LIQUIDO']]"
   ]
  },
  {
   "cell_type": "code",
   "execution_count": 132,
   "id": "e0d474e2",
   "metadata": {},
   "outputs": [
    {
     "data": {
      "text/html": [
       "<div>\n",
       "<style scoped>\n",
       "    .dataframe tbody tr th:only-of-type {\n",
       "        vertical-align: middle;\n",
       "    }\n",
       "\n",
       "    .dataframe tbody tr th {\n",
       "        vertical-align: top;\n",
       "    }\n",
       "\n",
       "    .dataframe thead th {\n",
       "        text-align: right;\n",
       "    }\n",
       "</style>\n",
       "<table border=\"1\" class=\"dataframe\">\n",
       "  <thead>\n",
       "    <tr style=\"text-align: right;\">\n",
       "      <th></th>\n",
       "      <th>CO_MES</th>\n",
       "      <th>CO_SH4</th>\n",
       "      <th>NO_PAIS</th>\n",
       "      <th>NO_VIA</th>\n",
       "      <th>KG_LIQUIDO</th>\n",
       "    </tr>\n",
       "  </thead>\n",
       "  <tbody>\n",
       "    <tr>\n",
       "      <th>0</th>\n",
       "      <td>1</td>\n",
       "      <td>9306</td>\n",
       "      <td>Alemanha</td>\n",
       "      <td>AEREA</td>\n",
       "      <td>21464.0</td>\n",
       "    </tr>\n",
       "    <tr>\n",
       "      <th>1</th>\n",
       "      <td>1</td>\n",
       "      <td>9306</td>\n",
       "      <td>Alemanha</td>\n",
       "      <td>MARITIMA</td>\n",
       "      <td>808719.0</td>\n",
       "    </tr>\n",
       "    <tr>\n",
       "      <th>2</th>\n",
       "      <td>1</td>\n",
       "      <td>9306</td>\n",
       "      <td>Angola</td>\n",
       "      <td>AEREA</td>\n",
       "      <td>32.0</td>\n",
       "    </tr>\n",
       "    <tr>\n",
       "      <th>3</th>\n",
       "      <td>1</td>\n",
       "      <td>9306</td>\n",
       "      <td>Angola</td>\n",
       "      <td>MARITIMA</td>\n",
       "      <td>139.0</td>\n",
       "    </tr>\n",
       "    <tr>\n",
       "      <th>4</th>\n",
       "      <td>1</td>\n",
       "      <td>9306</td>\n",
       "      <td>Argentina</td>\n",
       "      <td>AEREA</td>\n",
       "      <td>494.0</td>\n",
       "    </tr>\n",
       "    <tr>\n",
       "      <th>...</th>\n",
       "      <td>...</td>\n",
       "      <td>...</td>\n",
       "      <td>...</td>\n",
       "      <td>...</td>\n",
       "      <td>...</td>\n",
       "    </tr>\n",
       "    <tr>\n",
       "      <th>1284</th>\n",
       "      <td>9</td>\n",
       "      <td>9306</td>\n",
       "      <td>Zimbábue</td>\n",
       "      <td>AEREA</td>\n",
       "      <td>330.0</td>\n",
       "    </tr>\n",
       "    <tr>\n",
       "      <th>1285</th>\n",
       "      <td>9</td>\n",
       "      <td>9306</td>\n",
       "      <td>África do Sul</td>\n",
       "      <td>AEREA</td>\n",
       "      <td>28.0</td>\n",
       "    </tr>\n",
       "    <tr>\n",
       "      <th>1286</th>\n",
       "      <td>9</td>\n",
       "      <td>9306</td>\n",
       "      <td>África do Sul</td>\n",
       "      <td>MARITIMA</td>\n",
       "      <td>48379.0</td>\n",
       "    </tr>\n",
       "    <tr>\n",
       "      <th>1287</th>\n",
       "      <td>9</td>\n",
       "      <td>9306</td>\n",
       "      <td>Áustria</td>\n",
       "      <td>MARITIMA</td>\n",
       "      <td>44166.0</td>\n",
       "    </tr>\n",
       "    <tr>\n",
       "      <th>1288</th>\n",
       "      <td>9</td>\n",
       "      <td>9306</td>\n",
       "      <td>Índia</td>\n",
       "      <td>AEREA</td>\n",
       "      <td>176.0</td>\n",
       "    </tr>\n",
       "  </tbody>\n",
       "</table>\n",
       "<p>1289 rows × 5 columns</p>\n",
       "</div>"
      ],
      "text/plain": [
       "     CO_MES CO_SH4        NO_PAIS    NO_VIA  KG_LIQUIDO\n",
       "0         1   9306       Alemanha     AEREA     21464.0\n",
       "1         1   9306       Alemanha  MARITIMA    808719.0\n",
       "2         1   9306         Angola     AEREA        32.0\n",
       "3         1   9306         Angola  MARITIMA       139.0\n",
       "4         1   9306      Argentina     AEREA       494.0\n",
       "...     ...    ...            ...       ...         ...\n",
       "1284      9   9306       Zimbábue     AEREA       330.0\n",
       "1285      9   9306  África do Sul     AEREA        28.0\n",
       "1286      9   9306  África do Sul  MARITIMA     48379.0\n",
       "1287      9   9306        Áustria  MARITIMA     44166.0\n",
       "1288      9   9306          Índia     AEREA       176.0\n",
       "\n",
       "[1289 rows x 5 columns]"
      ]
     },
     "execution_count": 132,
     "metadata": {},
     "output_type": "execute_result"
    }
   ],
   "source": [
    "df_9306_classif_group"
   ]
  },
  {
   "cell_type": "code",
   "execution_count": 114,
   "id": "0d5f6f89",
   "metadata": {},
   "outputs": [],
   "source": [
    "#df_9306_classif_URUG= df_9306_classif.loc[df_9306_classif['NO_PAIS']=='Uruguai']"
   ]
  },
  {
   "cell_type": "code",
   "execution_count": 133,
   "id": "50117966",
   "metadata": {},
   "outputs": [],
   "source": [
    "from sklearn.preprocessing import LabelEncoder"
   ]
  },
  {
   "cell_type": "code",
   "execution_count": 162,
   "id": "39dc2257",
   "metadata": {},
   "outputs": [],
   "source": [
    "# Initialize LabelEncoder\n",
    "label_encoder_mes = LabelEncoder()\n",
    "\n",
    "df_9306_classif_group['CO_MES_encoded'] = label_encoder_mes.fit_transform(df_9306_classif_group['CO_MES'])"
   ]
  },
  {
   "cell_type": "code",
   "execution_count": 163,
   "id": "9e606153",
   "metadata": {},
   "outputs": [],
   "source": [
    "# Initialize LabelEncoder\n",
    "label_encoder_sh4 = LabelEncoder()\n",
    "\n",
    "df_9306_classif_group['CO_SH4_encoded'] = label_encoder_sh4.fit_transform(df_9306_classif_group['CO_SH4'])"
   ]
  },
  {
   "cell_type": "code",
   "execution_count": 164,
   "id": "05bb0e36",
   "metadata": {},
   "outputs": [],
   "source": [
    "# Initialize LabelEncoder\n",
    "label_encoder_pais = LabelEncoder()\n",
    "\n",
    "df_9306_classif_group['NO_PAIS_encoded'] = label_encoder_pais.fit_transform(df_9306_classif_group['NO_PAIS'])"
   ]
  },
  {
   "cell_type": "code",
   "execution_count": 165,
   "id": "259d7a29",
   "metadata": {},
   "outputs": [],
   "source": [
    "# Initialize LabelEncoder\n",
    "label_encoder_via = LabelEncoder()\n",
    "\n",
    "df_9306_classif_group['NO_VIA_encoded'] = label_encoder_via.fit_transform(df_9306_classif_group['NO_VIA'])"
   ]
  },
  {
   "cell_type": "code",
   "execution_count": 139,
   "id": "1943e8bb",
   "metadata": {},
   "outputs": [
    {
     "data": {
      "text/html": [
       "<div>\n",
       "<style scoped>\n",
       "    .dataframe tbody tr th:only-of-type {\n",
       "        vertical-align: middle;\n",
       "    }\n",
       "\n",
       "    .dataframe tbody tr th {\n",
       "        vertical-align: top;\n",
       "    }\n",
       "\n",
       "    .dataframe thead th {\n",
       "        text-align: right;\n",
       "    }\n",
       "</style>\n",
       "<table border=\"1\" class=\"dataframe\">\n",
       "  <thead>\n",
       "    <tr style=\"text-align: right;\">\n",
       "      <th></th>\n",
       "      <th>CO_MES</th>\n",
       "      <th>CO_SH4</th>\n",
       "      <th>NO_PAIS</th>\n",
       "      <th>NO_VIA</th>\n",
       "      <th>KG_LIQUIDO</th>\n",
       "      <th>CO_MES_encoded</th>\n",
       "      <th>CO_SH4_encoded</th>\n",
       "      <th>NO_PAIS_encoded</th>\n",
       "      <th>NO_VIA_encoded</th>\n",
       "    </tr>\n",
       "  </thead>\n",
       "  <tbody>\n",
       "    <tr>\n",
       "      <th>0</th>\n",
       "      <td>1</td>\n",
       "      <td>9306</td>\n",
       "      <td>Alemanha</td>\n",
       "      <td>AEREA</td>\n",
       "      <td>21464.0</td>\n",
       "      <td>0</td>\n",
       "      <td>0</td>\n",
       "      <td>0</td>\n",
       "      <td>0</td>\n",
       "    </tr>\n",
       "    <tr>\n",
       "      <th>1</th>\n",
       "      <td>1</td>\n",
       "      <td>9306</td>\n",
       "      <td>Alemanha</td>\n",
       "      <td>MARITIMA</td>\n",
       "      <td>808719.0</td>\n",
       "      <td>0</td>\n",
       "      <td>0</td>\n",
       "      <td>0</td>\n",
       "      <td>3</td>\n",
       "    </tr>\n",
       "    <tr>\n",
       "      <th>2</th>\n",
       "      <td>1</td>\n",
       "      <td>9306</td>\n",
       "      <td>Angola</td>\n",
       "      <td>AEREA</td>\n",
       "      <td>32.0</td>\n",
       "      <td>0</td>\n",
       "      <td>0</td>\n",
       "      <td>1</td>\n",
       "      <td>0</td>\n",
       "    </tr>\n",
       "    <tr>\n",
       "      <th>3</th>\n",
       "      <td>1</td>\n",
       "      <td>9306</td>\n",
       "      <td>Angola</td>\n",
       "      <td>MARITIMA</td>\n",
       "      <td>139.0</td>\n",
       "      <td>0</td>\n",
       "      <td>0</td>\n",
       "      <td>1</td>\n",
       "      <td>3</td>\n",
       "    </tr>\n",
       "    <tr>\n",
       "      <th>4</th>\n",
       "      <td>1</td>\n",
       "      <td>9306</td>\n",
       "      <td>Argentina</td>\n",
       "      <td>AEREA</td>\n",
       "      <td>494.0</td>\n",
       "      <td>0</td>\n",
       "      <td>0</td>\n",
       "      <td>2</td>\n",
       "      <td>0</td>\n",
       "    </tr>\n",
       "    <tr>\n",
       "      <th>...</th>\n",
       "      <td>...</td>\n",
       "      <td>...</td>\n",
       "      <td>...</td>\n",
       "      <td>...</td>\n",
       "      <td>...</td>\n",
       "      <td>...</td>\n",
       "      <td>...</td>\n",
       "      <td>...</td>\n",
       "      <td>...</td>\n",
       "    </tr>\n",
       "    <tr>\n",
       "      <th>1284</th>\n",
       "      <td>9</td>\n",
       "      <td>9306</td>\n",
       "      <td>Zimbábue</td>\n",
       "      <td>AEREA</td>\n",
       "      <td>330.0</td>\n",
       "      <td>11</td>\n",
       "      <td>0</td>\n",
       "      <td>114</td>\n",
       "      <td>0</td>\n",
       "    </tr>\n",
       "    <tr>\n",
       "      <th>1285</th>\n",
       "      <td>9</td>\n",
       "      <td>9306</td>\n",
       "      <td>África do Sul</td>\n",
       "      <td>AEREA</td>\n",
       "      <td>28.0</td>\n",
       "      <td>11</td>\n",
       "      <td>0</td>\n",
       "      <td>115</td>\n",
       "      <td>0</td>\n",
       "    </tr>\n",
       "    <tr>\n",
       "      <th>1286</th>\n",
       "      <td>9</td>\n",
       "      <td>9306</td>\n",
       "      <td>África do Sul</td>\n",
       "      <td>MARITIMA</td>\n",
       "      <td>48379.0</td>\n",
       "      <td>11</td>\n",
       "      <td>0</td>\n",
       "      <td>115</td>\n",
       "      <td>3</td>\n",
       "    </tr>\n",
       "    <tr>\n",
       "      <th>1287</th>\n",
       "      <td>9</td>\n",
       "      <td>9306</td>\n",
       "      <td>Áustria</td>\n",
       "      <td>MARITIMA</td>\n",
       "      <td>44166.0</td>\n",
       "      <td>11</td>\n",
       "      <td>0</td>\n",
       "      <td>116</td>\n",
       "      <td>3</td>\n",
       "    </tr>\n",
       "    <tr>\n",
       "      <th>1288</th>\n",
       "      <td>9</td>\n",
       "      <td>9306</td>\n",
       "      <td>Índia</td>\n",
       "      <td>AEREA</td>\n",
       "      <td>176.0</td>\n",
       "      <td>11</td>\n",
       "      <td>0</td>\n",
       "      <td>117</td>\n",
       "      <td>0</td>\n",
       "    </tr>\n",
       "  </tbody>\n",
       "</table>\n",
       "<p>1289 rows × 9 columns</p>\n",
       "</div>"
      ],
      "text/plain": [
       "     CO_MES CO_SH4        NO_PAIS    NO_VIA  KG_LIQUIDO  CO_MES_encoded  \\\n",
       "0         1   9306       Alemanha     AEREA     21464.0               0   \n",
       "1         1   9306       Alemanha  MARITIMA    808719.0               0   \n",
       "2         1   9306         Angola     AEREA        32.0               0   \n",
       "3         1   9306         Angola  MARITIMA       139.0               0   \n",
       "4         1   9306      Argentina     AEREA       494.0               0   \n",
       "...     ...    ...            ...       ...         ...             ...   \n",
       "1284      9   9306       Zimbábue     AEREA       330.0              11   \n",
       "1285      9   9306  África do Sul     AEREA        28.0              11   \n",
       "1286      9   9306  África do Sul  MARITIMA     48379.0              11   \n",
       "1287      9   9306        Áustria  MARITIMA     44166.0              11   \n",
       "1288      9   9306          Índia     AEREA       176.0              11   \n",
       "\n",
       "      CO_SH4_encoded  NO_PAIS_encoded  NO_VIA_encoded  \n",
       "0                  0                0               0  \n",
       "1                  0                0               3  \n",
       "2                  0                1               0  \n",
       "3                  0                1               3  \n",
       "4                  0                2               0  \n",
       "...              ...              ...             ...  \n",
       "1284               0              114               0  \n",
       "1285               0              115               0  \n",
       "1286               0              115               3  \n",
       "1287               0              116               3  \n",
       "1288               0              117               0  \n",
       "\n",
       "[1289 rows x 9 columns]"
      ]
     },
     "execution_count": 139,
     "metadata": {},
     "output_type": "execute_result"
    }
   ],
   "source": [
    "df_9306_classif_group"
   ]
  },
  {
   "cell_type": "code",
   "execution_count": 140,
   "id": "81c08044",
   "metadata": {},
   "outputs": [],
   "source": [
    "import xgboost as xgb\n",
    "from sklearn.model_selection import train_test_split\n",
    "from sklearn.metrics import accuracy_score"
   ]
  },
  {
   "cell_type": "code",
   "execution_count": 141,
   "id": "94294be3",
   "metadata": {},
   "outputs": [],
   "source": [
    "X = df_9306_classif_group[['KG_LIQUIDO', 'CO_MES_encoded', 'CO_SH4_encoded', 'NO_PAIS_encoded']]\n",
    "y = df_9306_classif_group['NO_VIA_encoded']"
   ]
  },
  {
   "cell_type": "code",
   "execution_count": 142,
   "id": "929b1314",
   "metadata": {},
   "outputs": [],
   "source": [
    "# Split the data into training and testing sets\n",
    "X_train, X_test, y_train, y_test = train_test_split(X, y, test_size=0.2, random_state=42)"
   ]
  },
  {
   "cell_type": "code",
   "execution_count": 143,
   "id": "7ac202d6",
   "metadata": {},
   "outputs": [],
   "source": [
    "# Instantiate XGBoost classifier\n",
    "xgb_classifier = xgb.XGBClassifier(objective=\"multi:softmax\", random_state=42)"
   ]
  },
  {
   "cell_type": "code",
   "execution_count": 144,
   "id": "1d68eb22",
   "metadata": {},
   "outputs": [
    {
     "data": {
      "text/html": [
       "<style>#sk-container-id-2 {color: black;background-color: white;}#sk-container-id-2 pre{padding: 0;}#sk-container-id-2 div.sk-toggleable {background-color: white;}#sk-container-id-2 label.sk-toggleable__label {cursor: pointer;display: block;width: 100%;margin-bottom: 0;padding: 0.3em;box-sizing: border-box;text-align: center;}#sk-container-id-2 label.sk-toggleable__label-arrow:before {content: \"▸\";float: left;margin-right: 0.25em;color: #696969;}#sk-container-id-2 label.sk-toggleable__label-arrow:hover:before {color: black;}#sk-container-id-2 div.sk-estimator:hover label.sk-toggleable__label-arrow:before {color: black;}#sk-container-id-2 div.sk-toggleable__content {max-height: 0;max-width: 0;overflow: hidden;text-align: left;background-color: #f0f8ff;}#sk-container-id-2 div.sk-toggleable__content pre {margin: 0.2em;color: black;border-radius: 0.25em;background-color: #f0f8ff;}#sk-container-id-2 input.sk-toggleable__control:checked~div.sk-toggleable__content {max-height: 200px;max-width: 100%;overflow: auto;}#sk-container-id-2 input.sk-toggleable__control:checked~label.sk-toggleable__label-arrow:before {content: \"▾\";}#sk-container-id-2 div.sk-estimator input.sk-toggleable__control:checked~label.sk-toggleable__label {background-color: #d4ebff;}#sk-container-id-2 div.sk-label input.sk-toggleable__control:checked~label.sk-toggleable__label {background-color: #d4ebff;}#sk-container-id-2 input.sk-hidden--visually {border: 0;clip: rect(1px 1px 1px 1px);clip: rect(1px, 1px, 1px, 1px);height: 1px;margin: -1px;overflow: hidden;padding: 0;position: absolute;width: 1px;}#sk-container-id-2 div.sk-estimator {font-family: monospace;background-color: #f0f8ff;border: 1px dotted black;border-radius: 0.25em;box-sizing: border-box;margin-bottom: 0.5em;}#sk-container-id-2 div.sk-estimator:hover {background-color: #d4ebff;}#sk-container-id-2 div.sk-parallel-item::after {content: \"\";width: 100%;border-bottom: 1px solid gray;flex-grow: 1;}#sk-container-id-2 div.sk-label:hover label.sk-toggleable__label {background-color: #d4ebff;}#sk-container-id-2 div.sk-serial::before {content: \"\";position: absolute;border-left: 1px solid gray;box-sizing: border-box;top: 0;bottom: 0;left: 50%;z-index: 0;}#sk-container-id-2 div.sk-serial {display: flex;flex-direction: column;align-items: center;background-color: white;padding-right: 0.2em;padding-left: 0.2em;position: relative;}#sk-container-id-2 div.sk-item {position: relative;z-index: 1;}#sk-container-id-2 div.sk-parallel {display: flex;align-items: stretch;justify-content: center;background-color: white;position: relative;}#sk-container-id-2 div.sk-item::before, #sk-container-id-2 div.sk-parallel-item::before {content: \"\";position: absolute;border-left: 1px solid gray;box-sizing: border-box;top: 0;bottom: 0;left: 50%;z-index: -1;}#sk-container-id-2 div.sk-parallel-item {display: flex;flex-direction: column;z-index: 1;position: relative;background-color: white;}#sk-container-id-2 div.sk-parallel-item:first-child::after {align-self: flex-end;width: 50%;}#sk-container-id-2 div.sk-parallel-item:last-child::after {align-self: flex-start;width: 50%;}#sk-container-id-2 div.sk-parallel-item:only-child::after {width: 0;}#sk-container-id-2 div.sk-dashed-wrapped {border: 1px dashed gray;margin: 0 0.4em 0.5em 0.4em;box-sizing: border-box;padding-bottom: 0.4em;background-color: white;}#sk-container-id-2 div.sk-label label {font-family: monospace;font-weight: bold;display: inline-block;line-height: 1.2em;}#sk-container-id-2 div.sk-label-container {text-align: center;}#sk-container-id-2 div.sk-container {/* jupyter's `normalize.less` sets `[hidden] { display: none; }` but bootstrap.min.css set `[hidden] { display: none !important; }` so we also need the `!important` here to be able to override the default hidden behavior on the sphinx rendered scikit-learn.org. See: https://github.com/scikit-learn/scikit-learn/issues/21755 */display: inline-block !important;position: relative;}#sk-container-id-2 div.sk-text-repr-fallback {display: none;}</style><div id=\"sk-container-id-2\" class=\"sk-top-container\"><div class=\"sk-text-repr-fallback\"><pre>XGBClassifier(base_score=None, booster=None, callbacks=None,\n",
       "              colsample_bylevel=None, colsample_bynode=None,\n",
       "              colsample_bytree=None, device=None, early_stopping_rounds=None,\n",
       "              enable_categorical=False, eval_metric=None, feature_types=None,\n",
       "              gamma=None, grow_policy=None, importance_type=None,\n",
       "              interaction_constraints=None, learning_rate=None, max_bin=None,\n",
       "              max_cat_threshold=None, max_cat_to_onehot=None,\n",
       "              max_delta_step=None, max_depth=None, max_leaves=None,\n",
       "              min_child_weight=None, missing=nan, monotone_constraints=None,\n",
       "              multi_strategy=None, n_estimators=None, n_jobs=None,\n",
       "              num_parallel_tree=None, objective=&#x27;multi:softmax&#x27;, ...)</pre><b>In a Jupyter environment, please rerun this cell to show the HTML representation or trust the notebook. <br />On GitHub, the HTML representation is unable to render, please try loading this page with nbviewer.org.</b></div><div class=\"sk-container\" hidden><div class=\"sk-item\"><div class=\"sk-estimator sk-toggleable\"><input class=\"sk-toggleable__control sk-hidden--visually\" id=\"sk-estimator-id-2\" type=\"checkbox\" checked><label for=\"sk-estimator-id-2\" class=\"sk-toggleable__label sk-toggleable__label-arrow\">XGBClassifier</label><div class=\"sk-toggleable__content\"><pre>XGBClassifier(base_score=None, booster=None, callbacks=None,\n",
       "              colsample_bylevel=None, colsample_bynode=None,\n",
       "              colsample_bytree=None, device=None, early_stopping_rounds=None,\n",
       "              enable_categorical=False, eval_metric=None, feature_types=None,\n",
       "              gamma=None, grow_policy=None, importance_type=None,\n",
       "              interaction_constraints=None, learning_rate=None, max_bin=None,\n",
       "              max_cat_threshold=None, max_cat_to_onehot=None,\n",
       "              max_delta_step=None, max_depth=None, max_leaves=None,\n",
       "              min_child_weight=None, missing=nan, monotone_constraints=None,\n",
       "              multi_strategy=None, n_estimators=None, n_jobs=None,\n",
       "              num_parallel_tree=None, objective=&#x27;multi:softmax&#x27;, ...)</pre></div></div></div></div></div>"
      ],
      "text/plain": [
       "XGBClassifier(base_score=None, booster=None, callbacks=None,\n",
       "              colsample_bylevel=None, colsample_bynode=None,\n",
       "              colsample_bytree=None, device=None, early_stopping_rounds=None,\n",
       "              enable_categorical=False, eval_metric=None, feature_types=None,\n",
       "              gamma=None, grow_policy=None, importance_type=None,\n",
       "              interaction_constraints=None, learning_rate=None, max_bin=None,\n",
       "              max_cat_threshold=None, max_cat_to_onehot=None,\n",
       "              max_delta_step=None, max_depth=None, max_leaves=None,\n",
       "              min_child_weight=None, missing=nan, monotone_constraints=None,\n",
       "              multi_strategy=None, n_estimators=None, n_jobs=None,\n",
       "              num_parallel_tree=None, objective='multi:softmax', ...)"
      ]
     },
     "execution_count": 144,
     "metadata": {},
     "output_type": "execute_result"
    }
   ],
   "source": [
    "# Train the classifier\n",
    "xgb_classifier.fit(X_train, y_train)"
   ]
  },
  {
   "cell_type": "code",
   "execution_count": 145,
   "id": "dd0d151f",
   "metadata": {},
   "outputs": [],
   "source": [
    "# Make predictions on the test set\n",
    "y_pred = xgb_classifier.predict(X_test)"
   ]
  },
  {
   "cell_type": "code",
   "execution_count": 146,
   "id": "dd6c09ba",
   "metadata": {},
   "outputs": [
    {
     "name": "stdout",
     "output_type": "stream",
     "text": [
      "Accuracy: 0.84\n"
     ]
    }
   ],
   "source": [
    "# Evaluate the accuracy\n",
    "accuracy = accuracy_score(y_test, y_pred)\n",
    "print(f\"Accuracy: {accuracy:.2f}\")"
   ]
  },
  {
   "cell_type": "code",
   "execution_count": 147,
   "id": "3dc32fa5",
   "metadata": {},
   "outputs": [
    {
     "data": {
      "text/html": [
       "<div>\n",
       "<style scoped>\n",
       "    .dataframe tbody tr th:only-of-type {\n",
       "        vertical-align: middle;\n",
       "    }\n",
       "\n",
       "    .dataframe tbody tr th {\n",
       "        vertical-align: top;\n",
       "    }\n",
       "\n",
       "    .dataframe thead th {\n",
       "        text-align: right;\n",
       "    }\n",
       "</style>\n",
       "<table border=\"1\" class=\"dataframe\">\n",
       "  <thead>\n",
       "    <tr style=\"text-align: right;\">\n",
       "      <th></th>\n",
       "      <th>KG_LIQUIDO</th>\n",
       "      <th>CO_MES_encoded</th>\n",
       "      <th>CO_SH4_encoded</th>\n",
       "      <th>NO_PAIS_encoded</th>\n",
       "    </tr>\n",
       "  </thead>\n",
       "  <tbody>\n",
       "    <tr>\n",
       "      <th>1121</th>\n",
       "      <td>61.0</td>\n",
       "      <td>10</td>\n",
       "      <td>0</td>\n",
       "      <td>65</td>\n",
       "    </tr>\n",
       "    <tr>\n",
       "      <th>1186</th>\n",
       "      <td>11422.0</td>\n",
       "      <td>11</td>\n",
       "      <td>0</td>\n",
       "      <td>11</td>\n",
       "    </tr>\n",
       "  </tbody>\n",
       "</table>\n",
       "</div>"
      ],
      "text/plain": [
       "      KG_LIQUIDO  CO_MES_encoded  CO_SH4_encoded  NO_PAIS_encoded\n",
       "1121        61.0              10               0               65\n",
       "1186     11422.0              11               0               11"
      ]
     },
     "execution_count": 147,
     "metadata": {},
     "output_type": "execute_result"
    }
   ],
   "source": [
    "X_test.head(2)"
   ]
  },
  {
   "cell_type": "code",
   "execution_count": 148,
   "id": "aff8a366",
   "metadata": {},
   "outputs": [],
   "source": [
    "df_final = df_PRED_URUG.reset_index()"
   ]
  },
  {
   "cell_type": "code",
   "execution_count": 149,
   "id": "604a1a3f",
   "metadata": {},
   "outputs": [],
   "source": [
    "df_final['CO_MES']=df_final['index'].dt.strftime('%m')"
   ]
  },
  {
   "cell_type": "code",
   "execution_count": 153,
   "id": "ed25e13c",
   "metadata": {},
   "outputs": [],
   "source": [
    "df_final.rename(columns={'KG_LIQUIDO_PRED' : 'KG_LIQUIDO'}, inplace=True)"
   ]
  },
  {
   "cell_type": "code",
   "execution_count": 159,
   "id": "cc0d5861",
   "metadata": {},
   "outputs": [],
   "source": [
    "df_final['CO_SH4']='9306'\n",
    "df_final['NO_PAIS']='Uruguai'"
   ]
  },
  {
   "cell_type": "code",
   "execution_count": 160,
   "id": "b0890755",
   "metadata": {},
   "outputs": [
    {
     "data": {
      "text/html": [
       "<div>\n",
       "<style scoped>\n",
       "    .dataframe tbody tr th:only-of-type {\n",
       "        vertical-align: middle;\n",
       "    }\n",
       "\n",
       "    .dataframe tbody tr th {\n",
       "        vertical-align: top;\n",
       "    }\n",
       "\n",
       "    .dataframe thead th {\n",
       "        text-align: right;\n",
       "    }\n",
       "</style>\n",
       "<table border=\"1\" class=\"dataframe\">\n",
       "  <thead>\n",
       "    <tr style=\"text-align: right;\">\n",
       "      <th></th>\n",
       "      <th>index</th>\n",
       "      <th>KG_LIQUIDO</th>\n",
       "      <th>IF_KG_LIQUIDO_PRED</th>\n",
       "      <th>IS_KG_LIQUIDO_PRED</th>\n",
       "      <th>CO_MES</th>\n",
       "      <th>CO_SH4</th>\n",
       "      <th>NO_PAIS</th>\n",
       "    </tr>\n",
       "  </thead>\n",
       "  <tbody>\n",
       "    <tr>\n",
       "      <th>0</th>\n",
       "      <td>2023-03-31</td>\n",
       "      <td>1.113714e+03</td>\n",
       "      <td>-12496.957731</td>\n",
       "      <td>14724.385109</td>\n",
       "      <td>03</td>\n",
       "      <td>9306</td>\n",
       "      <td>Uruguai</td>\n",
       "    </tr>\n",
       "    <tr>\n",
       "      <th>1</th>\n",
       "      <td>2023-04-30</td>\n",
       "      <td>-3.703421e-21</td>\n",
       "      <td>-13816.131419</td>\n",
       "      <td>13816.131419</td>\n",
       "      <td>04</td>\n",
       "      <td>9306</td>\n",
       "      <td>Uruguai</td>\n",
       "    </tr>\n",
       "  </tbody>\n",
       "</table>\n",
       "</div>"
      ],
      "text/plain": [
       "       index    KG_LIQUIDO  IF_KG_LIQUIDO_PRED  IS_KG_LIQUIDO_PRED CO_MES  \\\n",
       "0 2023-03-31  1.113714e+03       -12496.957731        14724.385109     03   \n",
       "1 2023-04-30 -3.703421e-21       -13816.131419        13816.131419     04   \n",
       "\n",
       "  CO_SH4  NO_PAIS  \n",
       "0   9306  Uruguai  \n",
       "1   9306  Uruguai  "
      ]
     },
     "execution_count": 160,
     "metadata": {},
     "output_type": "execute_result"
    }
   ],
   "source": [
    "df_final.head(2)"
   ]
  },
  {
   "cell_type": "code",
   "execution_count": 161,
   "id": "a1027ae9",
   "metadata": {},
   "outputs": [],
   "source": [
    "#df_final.drop(columns=['index','Intervalo Inferior','Intervalo Superior'], inplace=True)"
   ]
  },
  {
   "cell_type": "code",
   "execution_count": 166,
   "id": "b1680e23",
   "metadata": {},
   "outputs": [],
   "source": [
    "df_final['CO_MES_encoded'] = label_encoder_mes.fit_transform(df_final['CO_MES'])"
   ]
  },
  {
   "cell_type": "code",
   "execution_count": 167,
   "id": "47a05335",
   "metadata": {},
   "outputs": [],
   "source": [
    "df_final['CO_SH4_encoded'] = label_encoder_sh4.transform(df_final['CO_SH4'])"
   ]
  },
  {
   "cell_type": "code",
   "execution_count": 168,
   "id": "72d9dcc1",
   "metadata": {},
   "outputs": [],
   "source": [
    "df_final['NO_PAIS_encoded'] = label_encoder_pais.transform(df_final['NO_PAIS'])"
   ]
  },
  {
   "cell_type": "code",
   "execution_count": 169,
   "id": "47b78f70",
   "metadata": {},
   "outputs": [
    {
     "data": {
      "text/html": [
       "<div>\n",
       "<style scoped>\n",
       "    .dataframe tbody tr th:only-of-type {\n",
       "        vertical-align: middle;\n",
       "    }\n",
       "\n",
       "    .dataframe tbody tr th {\n",
       "        vertical-align: top;\n",
       "    }\n",
       "\n",
       "    .dataframe thead th {\n",
       "        text-align: right;\n",
       "    }\n",
       "</style>\n",
       "<table border=\"1\" class=\"dataframe\">\n",
       "  <thead>\n",
       "    <tr style=\"text-align: right;\">\n",
       "      <th></th>\n",
       "      <th>KG_LIQUIDO</th>\n",
       "      <th>CO_MES_encoded</th>\n",
       "      <th>CO_SH4_encoded</th>\n",
       "      <th>NO_PAIS_encoded</th>\n",
       "    </tr>\n",
       "  </thead>\n",
       "  <tbody>\n",
       "    <tr>\n",
       "      <th>0</th>\n",
       "      <td>1.113714e+03</td>\n",
       "      <td>2</td>\n",
       "      <td>0</td>\n",
       "      <td>112</td>\n",
       "    </tr>\n",
       "    <tr>\n",
       "      <th>1</th>\n",
       "      <td>-3.703421e-21</td>\n",
       "      <td>3</td>\n",
       "      <td>0</td>\n",
       "      <td>112</td>\n",
       "    </tr>\n",
       "    <tr>\n",
       "      <th>2</th>\n",
       "      <td>1.246439e+03</td>\n",
       "      <td>4</td>\n",
       "      <td>0</td>\n",
       "      <td>112</td>\n",
       "    </tr>\n",
       "    <tr>\n",
       "      <th>3</th>\n",
       "      <td>-1.273395e-39</td>\n",
       "      <td>5</td>\n",
       "      <td>0</td>\n",
       "      <td>112</td>\n",
       "    </tr>\n",
       "    <tr>\n",
       "      <th>4</th>\n",
       "      <td>3.603772e+02</td>\n",
       "      <td>6</td>\n",
       "      <td>0</td>\n",
       "      <td>112</td>\n",
       "    </tr>\n",
       "  </tbody>\n",
       "</table>\n",
       "</div>"
      ],
      "text/plain": [
       "     KG_LIQUIDO  CO_MES_encoded  CO_SH4_encoded  NO_PAIS_encoded\n",
       "0  1.113714e+03               2               0              112\n",
       "1 -3.703421e-21               3               0              112\n",
       "2  1.246439e+03               4               0              112\n",
       "3 -1.273395e-39               5               0              112\n",
       "4  3.603772e+02               6               0              112"
      ]
     },
     "execution_count": 169,
     "metadata": {},
     "output_type": "execute_result"
    }
   ],
   "source": [
    "df_final[['KG_LIQUIDO','CO_MES_encoded','CO_SH4_encoded','NO_PAIS_encoded']].head()"
   ]
  },
  {
   "cell_type": "code",
   "execution_count": 170,
   "id": "81cfeebc",
   "metadata": {},
   "outputs": [],
   "source": [
    "df_final['VIA_PRED']=xgb_classifier.predict(df_final[['KG_LIQUIDO','CO_MES_encoded','CO_SH4_encoded','NO_PAIS_encoded']])"
   ]
  },
  {
   "cell_type": "code",
   "execution_count": 171,
   "id": "5e912edd",
   "metadata": {},
   "outputs": [],
   "source": [
    "df_final['VIA_PRED_PROB']=xgb_classifier.predict_proba(df_final[['KG_LIQUIDO','CO_MES_encoded','CO_SH4_encoded','NO_PAIS_encoded']]).max(axis=1)"
   ]
  },
  {
   "cell_type": "code",
   "execution_count": 174,
   "id": "9476cd5b",
   "metadata": {},
   "outputs": [],
   "source": [
    "df_final['NO_VIA_PRED']=label_encoder_via.inverse_transform(df_final['VIA_PRED'])"
   ]
  },
  {
   "cell_type": "code",
   "execution_count": 179,
   "id": "cbc45782",
   "metadata": {},
   "outputs": [],
   "source": [
    "pd.set_option('display.float_format', lambda x: '%.3f' % x)"
   ]
  },
  {
   "cell_type": "code",
   "execution_count": 183,
   "id": "87dd5b9a",
   "metadata": {},
   "outputs": [],
   "source": [
    "df_9306_final = df_final[['NO_PAIS','index','KG_LIQUIDO','IF_KG_LIQUIDO_PRED','IS_KG_LIQUIDO_PRED','NO_VIA_PRED','VIA_PRED_PROB']]"
   ]
  },
  {
   "cell_type": "code",
   "execution_count": 187,
   "id": "c2fea972",
   "metadata": {},
   "outputs": [
    {
     "name": "stderr",
     "output_type": "stream",
     "text": [
      "C:\\Users\\jetin\\AppData\\Local\\Temp\\ipykernel_10060\\4116058466.py:1: SettingWithCopyWarning: \n",
      "A value is trying to be set on a copy of a slice from a DataFrame.\n",
      "Try using .loc[row_indexer,col_indexer] = value instead\n",
      "\n",
      "See the caveats in the documentation: https://pandas.pydata.org/pandas-docs/stable/user_guide/indexing.html#returning-a-view-versus-a-copy\n",
      "  df_9306_final['CO_SH4']='9306'\n",
      "C:\\Users\\jetin\\AppData\\Local\\Temp\\ipykernel_10060\\4116058466.py:2: SettingWithCopyWarning: \n",
      "A value is trying to be set on a copy of a slice from a DataFrame.\n",
      "Try using .loc[row_indexer,col_indexer] = value instead\n",
      "\n",
      "See the caveats in the documentation: https://pandas.pydata.org/pandas-docs/stable/user_guide/indexing.html#returning-a-view-versus-a-copy\n",
      "  df_9306_final['NO_SH4_POR']='Bombas; granadas; torpedos; minas; mísseis; cartuchos e outras munições e projécteis; e suas partes; incluídos os zagalotes; chumbos de caça e buchas para cartuchos'\n",
      "C:\\Users\\jetin\\AppData\\Local\\Temp\\ipykernel_10060\\4116058466.py:3: SettingWithCopyWarning: \n",
      "A value is trying to be set on a copy of a slice from a DataFrame.\n",
      "Try using .loc[row_indexer,col_indexer] = value instead\n",
      "\n",
      "See the caveats in the documentation: https://pandas.pydata.org/pandas-docs/stable/user_guide/indexing.html#returning-a-view-versus-a-copy\n",
      "  df_9306_final['NO_ISIC_SECAO']='Indústria de Transformação'\n",
      "C:\\Users\\jetin\\AppData\\Local\\Temp\\ipykernel_10060\\4116058466.py:4: SettingWithCopyWarning: \n",
      "A value is trying to be set on a copy of a slice from a DataFrame.\n",
      "Try using .loc[row_indexer,col_indexer] = value instead\n",
      "\n",
      "See the caveats in the documentation: https://pandas.pydata.org/pandas-docs/stable/user_guide/indexing.html#returning-a-view-versus-a-copy\n",
      "  df_9306_final['NO_ISIC_CLASSE']='Fabricação de armas e munições'\n",
      "C:\\Users\\jetin\\AppData\\Local\\Temp\\ipykernel_10060\\4116058466.py:5: SettingWithCopyWarning: \n",
      "A value is trying to be set on a copy of a slice from a DataFrame.\n",
      "Try using .loc[row_indexer,col_indexer] = value instead\n",
      "\n",
      "See the caveats in the documentation: https://pandas.pydata.org/pandas-docs/stable/user_guide/indexing.html#returning-a-view-versus-a-copy\n",
      "  df_9306_final['SG_UNID']='KGL'\n"
     ]
    }
   ],
   "source": [
    "df_9306_final['CO_SH4']='9306'\n",
    "df_9306_final['NO_SH4_POR']='Bombas; granadas; torpedos; minas; mísseis; cartuchos e outras munições e projécteis; e suas partes; incluídos os zagalotes; chumbos de caça e buchas para cartuchos'\n",
    "df_9306_final['NO_ISIC_SECAO']='Indústria de Transformação'\n",
    "df_9306_final['NO_ISIC_CLASSE']='Fabricação de armas e munições'\n",
    "df_9306_final['SG_UNID']='KGL'\n",
    "df_9306_final['CADEIA PRODUTIVA']='Bélica'"
   ]
  },
  {
   "cell_type": "code",
   "execution_count": 188,
   "id": "67c23e4a",
   "metadata": {},
   "outputs": [
    {
     "data": {
      "text/html": [
       "<div>\n",
       "<style scoped>\n",
       "    .dataframe tbody tr th:only-of-type {\n",
       "        vertical-align: middle;\n",
       "    }\n",
       "\n",
       "    .dataframe tbody tr th {\n",
       "        vertical-align: top;\n",
       "    }\n",
       "\n",
       "    .dataframe thead th {\n",
       "        text-align: right;\n",
       "    }\n",
       "</style>\n",
       "<table border=\"1\" class=\"dataframe\">\n",
       "  <thead>\n",
       "    <tr style=\"text-align: right;\">\n",
       "      <th></th>\n",
       "      <th>NO_PAIS</th>\n",
       "      <th>index</th>\n",
       "      <th>KG_LIQUIDO</th>\n",
       "      <th>IF_KG_LIQUIDO_PRED</th>\n",
       "      <th>IS_KG_LIQUIDO_PRED</th>\n",
       "      <th>NO_VIA_PRED</th>\n",
       "      <th>VIA_PRED_PROB</th>\n",
       "      <th>CO_SH4</th>\n",
       "      <th>NO_SH4_POR</th>\n",
       "      <th>NO_ISIC_SECAO</th>\n",
       "      <th>NO_ISIC_CLASSE</th>\n",
       "      <th>SG_UNID</th>\n",
       "      <th>CADEIA PRODUTIVA</th>\n",
       "    </tr>\n",
       "  </thead>\n",
       "  <tbody>\n",
       "    <tr>\n",
       "      <th>0</th>\n",
       "      <td>Uruguai</td>\n",
       "      <td>2023-03-31</td>\n",
       "      <td>1113.714</td>\n",
       "      <td>-12496.958</td>\n",
       "      <td>14724.385</td>\n",
       "      <td>AEREA</td>\n",
       "      <td>0.925</td>\n",
       "      <td>9306</td>\n",
       "      <td>Bombas; granadas; torpedos; minas; mísseis; ca...</td>\n",
       "      <td>Indústria de Transformação</td>\n",
       "      <td>Fabricação de armas e munições</td>\n",
       "      <td>KGL</td>\n",
       "      <td>Bélica</td>\n",
       "    </tr>\n",
       "    <tr>\n",
       "      <th>1</th>\n",
       "      <td>Uruguai</td>\n",
       "      <td>2023-04-30</td>\n",
       "      <td>-0.000</td>\n",
       "      <td>-13816.131</td>\n",
       "      <td>13816.131</td>\n",
       "      <td>AEREA</td>\n",
       "      <td>0.989</td>\n",
       "      <td>9306</td>\n",
       "      <td>Bombas; granadas; torpedos; minas; mísseis; ca...</td>\n",
       "      <td>Indústria de Transformação</td>\n",
       "      <td>Fabricação de armas e munições</td>\n",
       "      <td>KGL</td>\n",
       "      <td>Bélica</td>\n",
       "    </tr>\n",
       "    <tr>\n",
       "      <th>2</th>\n",
       "      <td>Uruguai</td>\n",
       "      <td>2023-05-31</td>\n",
       "      <td>1246.439</td>\n",
       "      <td>-12569.693</td>\n",
       "      <td>15062.570</td>\n",
       "      <td>MEIOS PROPRIOS</td>\n",
       "      <td>0.525</td>\n",
       "      <td>9306</td>\n",
       "      <td>Bombas; granadas; torpedos; minas; mísseis; ca...</td>\n",
       "      <td>Indústria de Transformação</td>\n",
       "      <td>Fabricação de armas e munições</td>\n",
       "      <td>KGL</td>\n",
       "      <td>Bélica</td>\n",
       "    </tr>\n",
       "    <tr>\n",
       "      <th>3</th>\n",
       "      <td>Uruguai</td>\n",
       "      <td>2023-06-30</td>\n",
       "      <td>-0.000</td>\n",
       "      <td>-13816.131</td>\n",
       "      <td>13816.131</td>\n",
       "      <td>AEREA</td>\n",
       "      <td>0.992</td>\n",
       "      <td>9306</td>\n",
       "      <td>Bombas; granadas; torpedos; minas; mísseis; ca...</td>\n",
       "      <td>Indústria de Transformação</td>\n",
       "      <td>Fabricação de armas e munições</td>\n",
       "      <td>KGL</td>\n",
       "      <td>Bélica</td>\n",
       "    </tr>\n",
       "    <tr>\n",
       "      <th>4</th>\n",
       "      <td>Uruguai</td>\n",
       "      <td>2023-07-31</td>\n",
       "      <td>360.377</td>\n",
       "      <td>-13455.754</td>\n",
       "      <td>14176.509</td>\n",
       "      <td>AEREA</td>\n",
       "      <td>0.995</td>\n",
       "      <td>9306</td>\n",
       "      <td>Bombas; granadas; torpedos; minas; mísseis; ca...</td>\n",
       "      <td>Indústria de Transformação</td>\n",
       "      <td>Fabricação de armas e munições</td>\n",
       "      <td>KGL</td>\n",
       "      <td>Bélica</td>\n",
       "    </tr>\n",
       "  </tbody>\n",
       "</table>\n",
       "</div>"
      ],
      "text/plain": [
       "   NO_PAIS      index  KG_LIQUIDO  IF_KG_LIQUIDO_PRED  IS_KG_LIQUIDO_PRED  \\\n",
       "0  Uruguai 2023-03-31    1113.714          -12496.958           14724.385   \n",
       "1  Uruguai 2023-04-30      -0.000          -13816.131           13816.131   \n",
       "2  Uruguai 2023-05-31    1246.439          -12569.693           15062.570   \n",
       "3  Uruguai 2023-06-30      -0.000          -13816.131           13816.131   \n",
       "4  Uruguai 2023-07-31     360.377          -13455.754           14176.509   \n",
       "\n",
       "      NO_VIA_PRED  VIA_PRED_PROB CO_SH4  \\\n",
       "0           AEREA          0.925   9306   \n",
       "1           AEREA          0.989   9306   \n",
       "2  MEIOS PROPRIOS          0.525   9306   \n",
       "3           AEREA          0.992   9306   \n",
       "4           AEREA          0.995   9306   \n",
       "\n",
       "                                          NO_SH4_POR  \\\n",
       "0  Bombas; granadas; torpedos; minas; mísseis; ca...   \n",
       "1  Bombas; granadas; torpedos; minas; mísseis; ca...   \n",
       "2  Bombas; granadas; torpedos; minas; mísseis; ca...   \n",
       "3  Bombas; granadas; torpedos; minas; mísseis; ca...   \n",
       "4  Bombas; granadas; torpedos; minas; mísseis; ca...   \n",
       "\n",
       "                NO_ISIC_SECAO                  NO_ISIC_CLASSE SG_UNID  \\\n",
       "0  Indústria de Transformação  Fabricação de armas e munições     KGL   \n",
       "1  Indústria de Transformação  Fabricação de armas e munições     KGL   \n",
       "2  Indústria de Transformação  Fabricação de armas e munições     KGL   \n",
       "3  Indústria de Transformação  Fabricação de armas e munições     KGL   \n",
       "4  Indústria de Transformação  Fabricação de armas e munições     KGL   \n",
       "\n",
       "  CADEIA PRODUTIVA  \n",
       "0           Bélica  \n",
       "1           Bélica  \n",
       "2           Bélica  \n",
       "3           Bélica  \n",
       "4           Bélica  "
      ]
     },
     "execution_count": 188,
     "metadata": {},
     "output_type": "execute_result"
    }
   ],
   "source": [
    "df_9306_final.head()"
   ]
  },
  {
   "cell_type": "code",
   "execution_count": 189,
   "id": "c1a9e12a",
   "metadata": {},
   "outputs": [],
   "source": [
    "# salvando base SP - NCM - URF\n",
    "df_9306_final.to_csv('base_9306_final.csv', index=False)"
   ]
  },
  {
   "cell_type": "code",
   "execution_count": null,
   "id": "a2fb29c8",
   "metadata": {},
   "outputs": [],
   "source": []
  },
  {
   "cell_type": "code",
   "execution_count": null,
   "id": "efe16ad3",
   "metadata": {},
   "outputs": [],
   "source": []
  },
  {
   "cell_type": "code",
   "execution_count": null,
   "id": "b1862117",
   "metadata": {},
   "outputs": [],
   "source": []
  },
  {
   "cell_type": "code",
   "execution_count": null,
   "id": "541d89db",
   "metadata": {},
   "outputs": [],
   "source": []
  }
 ],
 "metadata": {
  "kernelspec": {
   "display_name": "Python 3 (ipykernel)",
   "language": "python",
   "name": "python3"
  },
  "language_info": {
   "codemirror_mode": {
    "name": "ipython",
    "version": 3
   },
   "file_extension": ".py",
   "mimetype": "text/x-python",
   "name": "python",
   "nbconvert_exporter": "python",
   "pygments_lexer": "ipython3",
   "version": "3.10.9"
  }
 },
 "nbformat": 4,
 "nbformat_minor": 5
}
